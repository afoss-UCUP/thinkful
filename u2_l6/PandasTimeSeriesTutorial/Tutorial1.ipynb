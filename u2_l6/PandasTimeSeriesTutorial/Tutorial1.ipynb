{
 "metadata": {
  "name": "",
  "signature": "sha256:f67a4ea515d7162642b6bd1276f565a5225e7492d105c1c1834905561c17082d"
 },
 "nbformat": 3,
 "nbformat_minor": 0,
 "worksheets": [
  {
   "cells": [
    {
     "cell_type": "code",
     "collapsed": false,
     "input": [
      "%matplotlib inline\n",
      "import numpy as np\n",
      "from pandas import Series, DataFrame\n",
      "import pandas as pd\n",
      "\n",
      "import matplotlib.pyplot as plt\n",
      "# pd.set_printoptions(notebook_repr_html=False)\n",
      "\n",
      "plt.plot(np.random.randn(100).cumsum())"
     ],
     "language": "python",
     "metadata": {},
     "outputs": [
      {
       "metadata": {},
       "output_type": "pyout",
       "prompt_number": 117,
       "text": [
        "[<matplotlib.lines.Line2D at 0x7f47526eb390>]"
       ]
      },
      {
       "metadata": {},
       "output_type": "display_data",
       "png": "[encoded data removed]",
       "text": [
        "<matplotlib.figure.Figure at 0x7f47526c92d0>"
       ]
      }
     ],
     "prompt_number": 117
    },
    {
     "cell_type": "code",
     "collapsed": false,
     "input": [
      "np.arange(5)"
     ],
     "language": "python",
     "metadata": {},
     "outputs": [
      {
       "metadata": {},
       "output_type": "pyout",
       "prompt_number": 7,
       "text": [
        "array([0, 1, 2, 3, 4])"
       ]
      }
     ],
     "prompt_number": 7
    },
    {
     "cell_type": "code",
     "collapsed": false,
     "input": [
      "np.arange(5)[1]"
     ],
     "language": "python",
     "metadata": {},
     "outputs": [
      {
       "metadata": {},
       "output_type": "pyout",
       "prompt_number": 8,
       "text": [
        "1"
       ]
      }
     ],
     "prompt_number": 8
    },
    {
     "cell_type": "code",
     "collapsed": false,
     "input": [
      "np.arange(5)[1:]"
     ],
     "language": "python",
     "metadata": {},
     "outputs": [
      {
       "metadata": {},
       "output_type": "pyout",
       "prompt_number": 9,
       "text": [
        "array([1, 2, 3, 4])"
       ]
      }
     ],
     "prompt_number": 9
    },
    {
     "cell_type": "code",
     "collapsed": false,
     "input": [
      "index = ['a', 'b', 'c', 'd', 'e']\n",
      "\n",
      "s = Series(np.arange(5), index=index)\n",
      "s"
     ],
     "language": "python",
     "metadata": {},
     "outputs": [
      {
       "metadata": {},
       "output_type": "pyout",
       "prompt_number": 10,
       "text": [
        "a    0\n",
        "b    1\n",
        "c    2\n",
        "d    3\n",
        "e    4\n",
        "dtype: int64"
       ]
      }
     ],
     "prompt_number": 10
    },
    {
     "cell_type": "code",
     "collapsed": false,
     "input": [
      "# \"Displays vertically but it's a one-dimensional object\""
     ],
     "language": "python",
     "metadata": {},
     "outputs": []
    },
    {
     "cell_type": "code",
     "collapsed": false,
     "input": [
      "s.values"
     ],
     "language": "python",
     "metadata": {},
     "outputs": [
      {
       "metadata": {},
       "output_type": "pyout",
       "prompt_number": 11,
       "text": [
        "array([0, 1, 2, 3, 4])"
       ]
      }
     ],
     "prompt_number": 11
    },
    {
     "cell_type": "code",
     "collapsed": false,
     "input": [
      "s.index"
     ],
     "language": "python",
     "metadata": {},
     "outputs": [
      {
       "metadata": {},
       "output_type": "pyout",
       "prompt_number": 12,
       "text": [
        "Index([u'a', u'b', u'c', u'd', u'e'], dtype='object')"
       ]
      }
     ],
     "prompt_number": 12
    },
    {
     "cell_type": "code",
     "collapsed": false,
     "input": [
      "s * 2"
     ],
     "language": "python",
     "metadata": {},
     "outputs": [
      {
       "metadata": {},
       "output_type": "pyout",
       "prompt_number": 13,
       "text": [
        "a    0\n",
        "b    2\n",
        "c    4\n",
        "d    6\n",
        "e    8\n",
        "dtype: int64"
       ]
      }
     ],
     "prompt_number": 13
    },
    {
     "cell_type": "code",
     "collapsed": false,
     "input": [
      "s[:3]"
     ],
     "language": "python",
     "metadata": {},
     "outputs": [
      {
       "metadata": {},
       "output_type": "pyout",
       "prompt_number": 14,
       "text": [
        "a    0\n",
        "b    1\n",
        "c    2\n",
        "dtype: int64"
       ]
      }
     ],
     "prompt_number": 14
    },
    {
     "cell_type": "code",
     "collapsed": false,
     "input": [
      "s['b':] # Slice with labels"
     ],
     "language": "python",
     "metadata": {},
     "outputs": [
      {
       "metadata": {},
       "output_type": "pyout",
       "prompt_number": 15,
       "text": [
        "b    1\n",
        "c    2\n",
        "d    3\n",
        "e    4\n",
        "dtype: int64"
       ]
      }
     ],
     "prompt_number": 15
    },
    {
     "cell_type": "code",
     "collapsed": false,
     "input": [
      "s[[1, 0, 2]] # \"Fancy indexing\": passing a list / array of integers"
     ],
     "language": "python",
     "metadata": {},
     "outputs": [
      {
       "metadata": {},
       "output_type": "pyout",
       "prompt_number": 16,
       "text": [
        "b    1\n",
        "a    0\n",
        "c    2\n",
        "dtype: int64"
       ]
      }
     ],
     "prompt_number": 16
    },
    {
     "cell_type": "code",
     "collapsed": false,
     "input": [
      "dates = pd.date_range('2012-07-16', '2012-07-21')\n",
      "dates"
     ],
     "language": "python",
     "metadata": {},
     "outputs": [
      {
       "metadata": {},
       "output_type": "pyout",
       "prompt_number": 17,
       "text": [
        "DatetimeIndex(['2012-07-16', '2012-07-17', '2012-07-18', '2012-07-19',\n",
        "               '2012-07-20', '2012-07-21'],\n",
        "              dtype='datetime64[ns]', freq='D', tz=None)"
       ]
      }
     ],
     "prompt_number": 17
    },
    {
     "cell_type": "code",
     "collapsed": false,
     "input": [
      "atemps = Series([101.5, 98, 95, 99, 100, 92], index=dates)\n",
      "atemps"
     ],
     "language": "python",
     "metadata": {},
     "outputs": [
      {
       "metadata": {},
       "output_type": "pyout",
       "prompt_number": 19,
       "text": [
        "2012-07-16    101.5\n",
        "2012-07-17     98.0\n",
        "2012-07-18     95.0\n",
        "2012-07-19     99.0\n",
        "2012-07-20    100.0\n",
        "2012-07-21     92.0\n",
        "Freq: D, dtype: float64"
       ]
      }
     ],
     "prompt_number": 19
    },
    {
     "cell_type": "code",
     "collapsed": false,
     "input": [
      "atemps.index"
     ],
     "language": "python",
     "metadata": {},
     "outputs": [
      {
       "metadata": {},
       "output_type": "pyout",
       "prompt_number": 20,
       "text": [
        "DatetimeIndex(['2012-07-16', '2012-07-17', '2012-07-18', '2012-07-19',\n",
        "               '2012-07-20', '2012-07-21'],\n",
        "              dtype='datetime64[ns]', freq='D', tz=None)"
       ]
      }
     ],
     "prompt_number": 20
    },
    {
     "cell_type": "code",
     "collapsed": false,
     "input": [
      "idx = atemps.index[2]\n",
      "atemps[idx]"
     ],
     "language": "python",
     "metadata": {},
     "outputs": [
      {
       "metadata": {},
       "output_type": "pyout",
       "prompt_number": 22,
       "text": [
        "95.0"
       ]
      }
     ],
     "prompt_number": 22
    },
    {
     "cell_type": "code",
     "collapsed": false,
     "input": [
      "sdtemps = Series([73, 78, 77, 78, 78, 77], index=dates)\n",
      "temps = DataFrame({'Austin': atemps, 'San Diego': sdtemps})\n",
      "temps # Pandas DataFrame: a spreadsheet-like data structure"
     ],
     "language": "python",
     "metadata": {},
     "outputs": [
      {
       "html": [
        "<div style=\"max-width:1500px;overflow:auto;\">\n",
        "<table border=\"1\" class=\"dataframe\">\n",
        "  <thead>\n",
        "    <tr style=\"text-align: right;\">\n",
        "      <th></th>\n",
        "      <th>Austin</th>\n",
        "      <th>San Diego</th>\n",
        "    </tr>\n",
        "  </thead>\n",
        "  <tbody>\n",
        "    <tr>\n",
        "      <th>2012-07-16</th>\n",
        "      <td>101.5</td>\n",
        "      <td>73</td>\n",
        "    </tr>\n",
        "    <tr>\n",
        "      <th>2012-07-17</th>\n",
        "      <td>98.0</td>\n",
        "      <td>78</td>\n",
        "    </tr>\n",
        "    <tr>\n",
        "      <th>2012-07-18</th>\n",
        "      <td>95.0</td>\n",
        "      <td>77</td>\n",
        "    </tr>\n",
        "    <tr>\n",
        "      <th>2012-07-19</th>\n",
        "      <td>99.0</td>\n",
        "      <td>78</td>\n",
        "    </tr>\n",
        "    <tr>\n",
        "      <th>2012-07-20</th>\n",
        "      <td>100.0</td>\n",
        "      <td>78</td>\n",
        "    </tr>\n",
        "    <tr>\n",
        "      <th>2012-07-21</th>\n",
        "      <td>92.0</td>\n",
        "      <td>77</td>\n",
        "    </tr>\n",
        "  </tbody>\n",
        "</table>\n",
        "</div>"
       ],
       "metadata": {},
       "output_type": "pyout",
       "prompt_number": 23,
       "text": [
        "            Austin  San Diego\n",
        "2012-07-16   101.5         73\n",
        "2012-07-17    98.0         78\n",
        "2012-07-18    95.0         77\n",
        "2012-07-19    99.0         78\n",
        "2012-07-20   100.0         78\n",
        "2012-07-21    92.0         77"
       ]
      }
     ],
     "prompt_number": 23
    },
    {
     "cell_type": "code",
     "collapsed": false,
     "input": [
      "temps.index"
     ],
     "language": "python",
     "metadata": {},
     "outputs": [
      {
       "metadata": {},
       "output_type": "pyout",
       "prompt_number": 24,
       "text": [
        "DatetimeIndex(['2012-07-16', '2012-07-17', '2012-07-18', '2012-07-19',\n",
        "               '2012-07-20', '2012-07-21'],\n",
        "              dtype='datetime64[ns]', freq='D', tz=None)"
       ]
      }
     ],
     "prompt_number": 24
    },
    {
     "cell_type": "code",
     "collapsed": false,
     "input": [
      "temps.columns # column index"
     ],
     "language": "python",
     "metadata": {},
     "outputs": [
      {
       "metadata": {},
       "output_type": "pyout",
       "prompt_number": 25,
       "text": [
        "Index([u'Austin', u'San Diego'], dtype='object')"
       ]
      }
     ],
     "prompt_number": 25
    },
    {
     "cell_type": "code",
     "collapsed": false,
     "input": [
      "temps['Diff'] = temps['Austin'] - temps['San Diego']\n",
      "temps"
     ],
     "language": "python",
     "metadata": {},
     "outputs": [
      {
       "html": [
        "<div style=\"max-width:1500px;overflow:auto;\">\n",
        "<table border=\"1\" class=\"dataframe\">\n",
        "  <thead>\n",
        "    <tr style=\"text-align: right;\">\n",
        "      <th></th>\n",
        "      <th>Austin</th>\n",
        "      <th>San Diego</th>\n",
        "      <th>Diff</th>\n",
        "    </tr>\n",
        "  </thead>\n",
        "  <tbody>\n",
        "    <tr>\n",
        "      <th>2012-07-16</th>\n",
        "      <td>101.5</td>\n",
        "      <td>73</td>\n",
        "      <td>28.5</td>\n",
        "    </tr>\n",
        "    <tr>\n",
        "      <th>2012-07-17</th>\n",
        "      <td>98.0</td>\n",
        "      <td>78</td>\n",
        "      <td>20.0</td>\n",
        "    </tr>\n",
        "    <tr>\n",
        "      <th>2012-07-18</th>\n",
        "      <td>95.0</td>\n",
        "      <td>77</td>\n",
        "      <td>18.0</td>\n",
        "    </tr>\n",
        "    <tr>\n",
        "      <th>2012-07-19</th>\n",
        "      <td>99.0</td>\n",
        "      <td>78</td>\n",
        "      <td>21.0</td>\n",
        "    </tr>\n",
        "    <tr>\n",
        "      <th>2012-07-20</th>\n",
        "      <td>100.0</td>\n",
        "      <td>78</td>\n",
        "      <td>22.0</td>\n",
        "    </tr>\n",
        "    <tr>\n",
        "      <th>2012-07-21</th>\n",
        "      <td>92.0</td>\n",
        "      <td>77</td>\n",
        "      <td>15.0</td>\n",
        "    </tr>\n",
        "  </tbody>\n",
        "</table>\n",
        "</div>"
       ],
       "metadata": {},
       "output_type": "pyout",
       "prompt_number": 26,
       "text": [
        "            Austin  San Diego  Diff\n",
        "2012-07-16   101.5         73  28.5\n",
        "2012-07-17    98.0         78  20.0\n",
        "2012-07-18    95.0         77  18.0\n",
        "2012-07-19    99.0         78  21.0\n",
        "2012-07-20   100.0         78  22.0\n",
        "2012-07-21    92.0         77  15.0"
       ]
      }
     ],
     "prompt_number": 26
    },
    {
     "cell_type": "code",
     "collapsed": false,
     "input": [
      "del temps['Diff']\n",
      "temps"
     ],
     "language": "python",
     "metadata": {},
     "outputs": [
      {
       "html": [
        "<div style=\"max-width:1500px;overflow:auto;\">\n",
        "<table border=\"1\" class=\"dataframe\">\n",
        "  <thead>\n",
        "    <tr style=\"text-align: right;\">\n",
        "      <th></th>\n",
        "      <th>Austin</th>\n",
        "      <th>San Diego</th>\n",
        "    </tr>\n",
        "  </thead>\n",
        "  <tbody>\n",
        "    <tr>\n",
        "      <th>2012-07-16</th>\n",
        "      <td>101.5</td>\n",
        "      <td>73</td>\n",
        "    </tr>\n",
        "    <tr>\n",
        "      <th>2012-07-17</th>\n",
        "      <td>98.0</td>\n",
        "      <td>78</td>\n",
        "    </tr>\n",
        "    <tr>\n",
        "      <th>2012-07-18</th>\n",
        "      <td>95.0</td>\n",
        "      <td>77</td>\n",
        "    </tr>\n",
        "    <tr>\n",
        "      <th>2012-07-19</th>\n",
        "      <td>99.0</td>\n",
        "      <td>78</td>\n",
        "    </tr>\n",
        "    <tr>\n",
        "      <th>2012-07-20</th>\n",
        "      <td>100.0</td>\n",
        "      <td>78</td>\n",
        "    </tr>\n",
        "    <tr>\n",
        "      <th>2012-07-21</th>\n",
        "      <td>92.0</td>\n",
        "      <td>77</td>\n",
        "    </tr>\n",
        "  </tbody>\n",
        "</table>\n",
        "</div>"
       ],
       "metadata": {},
       "output_type": "pyout",
       "prompt_number": 27,
       "text": [
        "            Austin  San Diego\n",
        "2012-07-16   101.5         73\n",
        "2012-07-17    98.0         78\n",
        "2012-07-18    95.0         77\n",
        "2012-07-19    99.0         78\n",
        "2012-07-20   100.0         78\n",
        "2012-07-21    92.0         77"
       ]
      }
     ],
     "prompt_number": 27
    },
    {
     "cell_type": "code",
     "collapsed": false,
     "input": [
      "temps.Austin # Select out column name"
     ],
     "language": "python",
     "metadata": {},
     "outputs": [
      {
       "metadata": {},
       "output_type": "pyout",
       "prompt_number": 28,
       "text": [
        "2012-07-16    101.5\n",
        "2012-07-17     98.0\n",
        "2012-07-18     95.0\n",
        "2012-07-19     99.0\n",
        "2012-07-20    100.0\n",
        "2012-07-21     92.0\n",
        "Freq: D, Name: Austin, dtype: float64"
       ]
      }
     ],
     "prompt_number": 28
    },
    {
     "cell_type": "code",
     "collapsed": false,
     "input": [
      "# To select subset of rows and simultaneously one or more of the columns\n",
      "temps.ix[2] # Select out the row at index 2: result you get back is a Series"
     ],
     "language": "python",
     "metadata": {},
     "outputs": [
      {
       "metadata": {},
       "output_type": "pyout",
       "prompt_number": 29,
       "text": [
        "Austin       95\n",
        "San Diego    77\n",
        "Name: 2012-07-18 00:00:00, dtype: float64"
       ]
      }
     ],
     "prompt_number": 29
    },
    {
     "cell_type": "code",
     "collapsed": false,
     "input": [
      "temps"
     ],
     "language": "python",
     "metadata": {},
     "outputs": [
      {
       "html": [
        "<div style=\"max-width:1500px;overflow:auto;\">\n",
        "<table border=\"1\" class=\"dataframe\">\n",
        "  <thead>\n",
        "    <tr style=\"text-align: right;\">\n",
        "      <th></th>\n",
        "      <th>Austin</th>\n",
        "      <th>San Diego</th>\n",
        "    </tr>\n",
        "  </thead>\n",
        "  <tbody>\n",
        "    <tr>\n",
        "      <th>2012-07-16</th>\n",
        "      <td>101.5</td>\n",
        "      <td>73</td>\n",
        "    </tr>\n",
        "    <tr>\n",
        "      <th>2012-07-17</th>\n",
        "      <td>98.0</td>\n",
        "      <td>78</td>\n",
        "    </tr>\n",
        "    <tr>\n",
        "      <th>2012-07-18</th>\n",
        "      <td>95.0</td>\n",
        "      <td>77</td>\n",
        "    </tr>\n",
        "    <tr>\n",
        "      <th>2012-07-19</th>\n",
        "      <td>99.0</td>\n",
        "      <td>78</td>\n",
        "    </tr>\n",
        "    <tr>\n",
        "      <th>2012-07-20</th>\n",
        "      <td>100.0</td>\n",
        "      <td>78</td>\n",
        "    </tr>\n",
        "    <tr>\n",
        "      <th>2012-07-21</th>\n",
        "      <td>92.0</td>\n",
        "      <td>77</td>\n",
        "    </tr>\n",
        "  </tbody>\n",
        "</table>\n",
        "</div>"
       ],
       "metadata": {},
       "output_type": "pyout",
       "prompt_number": 30,
       "text": [
        "            Austin  San Diego\n",
        "2012-07-16   101.5         73\n",
        "2012-07-17    98.0         78\n",
        "2012-07-18    95.0         77\n",
        "2012-07-19    99.0         78\n",
        "2012-07-20   100.0         78\n",
        "2012-07-21    92.0         77"
       ]
      }
     ],
     "prompt_number": 30
    },
    {
     "cell_type": "code",
     "collapsed": false,
     "input": [
      "idx = temps.index[2] # Timestamp at index 2\n",
      "temps.ix[idx:, ['San Diego', 'Austin']]"
     ],
     "language": "python",
     "metadata": {},
     "outputs": [
      {
       "html": [
        "<div style=\"max-width:1500px;overflow:auto;\">\n",
        "<table border=\"1\" class=\"dataframe\">\n",
        "  <thead>\n",
        "    <tr style=\"text-align: right;\">\n",
        "      <th></th>\n",
        "      <th>San Diego</th>\n",
        "      <th>Austin</th>\n",
        "    </tr>\n",
        "  </thead>\n",
        "  <tbody>\n",
        "    <tr>\n",
        "      <th>2012-07-18</th>\n",
        "      <td>77</td>\n",
        "      <td>95</td>\n",
        "    </tr>\n",
        "    <tr>\n",
        "      <th>2012-07-19</th>\n",
        "      <td>78</td>\n",
        "      <td>99</td>\n",
        "    </tr>\n",
        "    <tr>\n",
        "      <th>2012-07-20</th>\n",
        "      <td>78</td>\n",
        "      <td>100</td>\n",
        "    </tr>\n",
        "    <tr>\n",
        "      <th>2012-07-21</th>\n",
        "      <td>77</td>\n",
        "      <td>92</td>\n",
        "    </tr>\n",
        "  </tbody>\n",
        "</table>\n",
        "</div>"
       ],
       "metadata": {},
       "output_type": "pyout",
       "prompt_number": 34,
       "text": [
        "            San Diego  Austin\n",
        "2012-07-18         77      95\n",
        "2012-07-19         78      99\n",
        "2012-07-20         78     100\n",
        "2012-07-21         77      92"
       ]
      }
     ],
     "prompt_number": 34
    },
    {
     "cell_type": "code",
     "collapsed": false,
     "input": [
      "temps.ix[idx:, ['Austin', 'San Diego']] # Change column order"
     ],
     "language": "python",
     "metadata": {},
     "outputs": [
      {
       "html": [
        "<div style=\"max-width:1500px;overflow:auto;\">\n",
        "<table border=\"1\" class=\"dataframe\">\n",
        "  <thead>\n",
        "    <tr style=\"text-align: right;\">\n",
        "      <th></th>\n",
        "      <th>Austin</th>\n",
        "      <th>San Diego</th>\n",
        "    </tr>\n",
        "  </thead>\n",
        "  <tbody>\n",
        "    <tr>\n",
        "      <th>2012-07-18</th>\n",
        "      <td>95</td>\n",
        "      <td>77</td>\n",
        "    </tr>\n",
        "    <tr>\n",
        "      <th>2012-07-19</th>\n",
        "      <td>99</td>\n",
        "      <td>78</td>\n",
        "    </tr>\n",
        "    <tr>\n",
        "      <th>2012-07-20</th>\n",
        "      <td>100</td>\n",
        "      <td>78</td>\n",
        "    </tr>\n",
        "    <tr>\n",
        "      <th>2012-07-21</th>\n",
        "      <td>92</td>\n",
        "      <td>77</td>\n",
        "    </tr>\n",
        "  </tbody>\n",
        "</table>\n",
        "</div>"
       ],
       "metadata": {},
       "output_type": "pyout",
       "prompt_number": 35,
       "text": [
        "            Austin  San Diego\n",
        "2012-07-18      95         77\n",
        "2012-07-19      99         78\n",
        "2012-07-20     100         78\n",
        "2012-07-21      92         77"
       ]
      }
     ],
     "prompt_number": 35
    },
    {
     "cell_type": "code",
     "collapsed": false,
     "input": [
      "temps.ix[[1, 0, 2], ['San Diego', 'Austin']] # Change column order"
     ],
     "language": "python",
     "metadata": {},
     "outputs": [
      {
       "html": [
        "<div style=\"max-width:1500px;overflow:auto;\">\n",
        "<table border=\"1\" class=\"dataframe\">\n",
        "  <thead>\n",
        "    <tr style=\"text-align: right;\">\n",
        "      <th></th>\n",
        "      <th>San Diego</th>\n",
        "      <th>Austin</th>\n",
        "    </tr>\n",
        "  </thead>\n",
        "  <tbody>\n",
        "    <tr>\n",
        "      <th>2012-07-17</th>\n",
        "      <td>78</td>\n",
        "      <td>98.0</td>\n",
        "    </tr>\n",
        "    <tr>\n",
        "      <th>2012-07-16</th>\n",
        "      <td>73</td>\n",
        "      <td>101.5</td>\n",
        "    </tr>\n",
        "    <tr>\n",
        "      <th>2012-07-18</th>\n",
        "      <td>77</td>\n",
        "      <td>95.0</td>\n",
        "    </tr>\n",
        "  </tbody>\n",
        "</table>\n",
        "</div>"
       ],
       "metadata": {},
       "output_type": "pyout",
       "prompt_number": 36,
       "text": [
        "            San Diego  Austin\n",
        "2012-07-17         78    98.0\n",
        "2012-07-16         73   101.5\n",
        "2012-07-18         77    95.0"
       ]
      }
     ],
     "prompt_number": 36
    },
    {
     "cell_type": "code",
     "collapsed": false,
     "input": [
      "temps.mean() # Behaves a bit differently from default numpy behavior: default is to compute mean over columns"
     ],
     "language": "python",
     "metadata": {},
     "outputs": [
      {
       "metadata": {},
       "output_type": "pyout",
       "prompt_number": 37,
       "text": [
        "Austin       97.583333\n",
        "San Diego    76.833333\n",
        "dtype: float64"
       ]
      }
     ],
     "prompt_number": 37
    },
    {
     "cell_type": "code",
     "collapsed": false,
     "input": [
      "np.random.randn(100, 100).mean() # 100 x 100 array; computes mean of all the data"
     ],
     "language": "python",
     "metadata": {},
     "outputs": [
      {
       "metadata": {},
       "output_type": "pyout",
       "prompt_number": 40,
       "text": [
        "-0.022898721587416428"
       ]
      }
     ],
     "prompt_number": 40
    },
    {
     "cell_type": "code",
     "collapsed": false,
     "input": [
      "np.random.randn(5, 5).mean(0) # 100 x 100 array; computes mean over the rows"
     ],
     "language": "python",
     "metadata": {},
     "outputs": [
      {
       "metadata": {},
       "output_type": "pyout",
       "prompt_number": 42,
       "text": [
        "array([ 0.79436282, -0.32985252, -0.45639827, -0.17747385, -0.07044955])"
       ]
      }
     ],
     "prompt_number": 42
    },
    {
     "cell_type": "code",
     "collapsed": false,
     "input": [
      "np.random.randn(5, 5).mean(1) # 100 x 100 array; computes mean over the columns"
     ],
     "language": "python",
     "metadata": {},
     "outputs": [
      {
       "metadata": {},
       "output_type": "pyout",
       "prompt_number": 43,
       "text": [
        "array([ 0.79686665, -0.03133299, -0.43312596, -1.03759013, -0.09375394])"
       ]
      }
     ],
     "prompt_number": 43
    },
    {
     "cell_type": "code",
     "collapsed": false,
     "input": [
      "temps - temps.mean() # \"The mean of the columns gets broadcasted down the rows\" -- WTF?\n",
      "# You get a DataFrame that contains deviations from the mean value for each timestamp in the city"
     ],
     "language": "python",
     "metadata": {},
     "outputs": [
      {
       "html": [
        "<div style=\"max-width:1500px;overflow:auto;\">\n",
        "<table border=\"1\" class=\"dataframe\">\n",
        "  <thead>\n",
        "    <tr style=\"text-align: right;\">\n",
        "      <th></th>\n",
        "      <th>Austin</th>\n",
        "      <th>San Diego</th>\n",
        "    </tr>\n",
        "  </thead>\n",
        "  <tbody>\n",
        "    <tr>\n",
        "      <th>2012-07-16</th>\n",
        "      <td>3.916667</td>\n",
        "      <td>-3.833333</td>\n",
        "    </tr>\n",
        "    <tr>\n",
        "      <th>2012-07-17</th>\n",
        "      <td>0.416667</td>\n",
        "      <td>1.166667</td>\n",
        "    </tr>\n",
        "    <tr>\n",
        "      <th>2012-07-18</th>\n",
        "      <td>-2.583333</td>\n",
        "      <td>0.166667</td>\n",
        "    </tr>\n",
        "    <tr>\n",
        "      <th>2012-07-19</th>\n",
        "      <td>1.416667</td>\n",
        "      <td>1.166667</td>\n",
        "    </tr>\n",
        "    <tr>\n",
        "      <th>2012-07-20</th>\n",
        "      <td>2.416667</td>\n",
        "      <td>1.166667</td>\n",
        "    </tr>\n",
        "    <tr>\n",
        "      <th>2012-07-21</th>\n",
        "      <td>-5.583333</td>\n",
        "      <td>0.166667</td>\n",
        "    </tr>\n",
        "  </tbody>\n",
        "</table>\n",
        "</div>"
       ],
       "metadata": {},
       "output_type": "pyout",
       "prompt_number": 45,
       "text": [
        "              Austin  San Diego\n",
        "2012-07-16  3.916667  -3.833333\n",
        "2012-07-17  0.416667   1.166667\n",
        "2012-07-18 -2.583333   0.166667\n",
        "2012-07-19  1.416667   1.166667\n",
        "2012-07-20  2.416667   1.166667\n",
        "2012-07-21 -5.583333   0.166667"
       ]
      }
     ],
     "prompt_number": 45
    },
    {
     "cell_type": "code",
     "collapsed": false,
     "input": [
      "!cat ideal_weight.csv # Works! will output"
     ],
     "language": "python",
     "metadata": {},
     "outputs": [],
     "prompt_number": 46
    },
    {
     "cell_type": "code",
     "collapsed": false,
     "input": [
      "df = pd.read_csv('ideal_weight.csv', header=0)\n",
      "df"
     ],
     "language": "python",
     "metadata": {},
     "outputs": [
      {
       "metadata": {},
       "output_type": "pyout",
       "prompt_number": 87,
       "text": [
        "Int64Index([  0,   1,   2,   3,   4,   5,   6,   7,   8,   9, \n",
        "            ...\n",
        "            172, 173, 174, 175, 176, 177, 178, 179, 180, 181],\n",
        "           dtype='int64', length=182)"
       ]
      }
     ],
     "prompt_number": 87
    },
    {
     "cell_type": "code",
     "collapsed": false,
     "input": [
      "pd.read_clipboard()"
     ],
     "language": "python",
     "metadata": {},
     "outputs": [
      {
       "html": [
        "<div style=\"max-width:1500px;overflow:auto;\">\n",
        "<table border=\"1\" class=\"dataframe\">\n",
        "  <thead>\n",
        "    <tr style=\"text-align: right;\">\n",
        "      <th></th>\n",
        "      <th>Wiki software</th>\n",
        "      <th>Creator</th>\n",
        "      <th>First public release date</th>\n",
        "      <th>Latest stable release</th>\n",
        "      <th>Stable release date</th>\n",
        "      <th>Predecessor</th>\n",
        "      <th>Software license[1]</th>\n",
        "      <th>Open source</th>\n",
        "      <th>Encoding</th>\n",
        "      <th>Multilingual</th>\n",
        "      <th>Programming language</th>\n",
        "      <th>Data backend</th>\n",
        "    </tr>\n",
        "  </thead>\n",
        "  <tbody>\n",
        "    <tr>\n",
        "      <th>0</th>\n",
        "      <td>BlueSpice for MediaWiki</td>\n",
        "      <td>Hallo Welt! - Medienwerkstatt GmbH</td>\n",
        "      <td>31 March 2011</td>\n",
        "      <td>2.23.2</td>\n",
        "      <td>30 November 2015[2]</td>\n",
        "      <td>MediaWiki</td>\n",
        "      <td>GPL v2</td>\n",
        "      <td>Yes</td>\n",
        "      <td>UTF-8</td>\n",
        "      <td>Yes</td>\n",
        "      <td>PHP</td>\n",
        "      <td>MySQL</td>\n",
        "    </tr>\n",
        "    <tr>\n",
        "      <th>1</th>\n",
        "      <td>BrainKeeper</td>\n",
        "      <td>BrainKeeper, Inc.</td>\n",
        "      <td>1 September 2005</td>\n",
        "      <td>NaN</td>\n",
        "      <td>1 March 2010</td>\n",
        "      <td>NaN</td>\n",
        "      <td>Proprietary</td>\n",
        "      <td>No</td>\n",
        "      <td>NaN</td>\n",
        "      <td>Yes</td>\n",
        "      <td>Java/Java EE</td>\n",
        "      <td>MySQL</td>\n",
        "    </tr>\n",
        "  </tbody>\n",
        "</table>\n",
        "</div>"
       ],
       "metadata": {},
       "output_type": "pyout",
       "prompt_number": 49,
       "text": [
        "             Wiki software                              Creator   \\\n",
        "0  BlueSpice for MediaWiki   Hallo Welt! - Medienwerkstatt GmbH    \n",
        "1              BrainKeeper                    BrainKeeper, Inc.    \n",
        "\n",
        "  First public release date  Latest stable release   Stable release date   \\\n",
        "0             31 March 2011                 2.23.2   30 November 2015[2]    \n",
        "1          1 September 2005                     NaN         1 March 2010    \n",
        "\n",
        "  Predecessor  Software license[1]  Open source  Encoding  Multilingual   \\\n",
        "0   MediaWiki               GPL v2          Yes     UTF-8           Yes    \n",
        "1          NaN         Proprietary           No        NaN          Yes    \n",
        "\n",
        "  Programming language  Data backend  \n",
        "0                  PHP         MySQL  \n",
        "1         Java/Java EE         MySQL  "
       ]
      }
     ],
     "prompt_number": 49
    },
    {
     "cell_type": "code",
     "collapsed": false,
     "input": [
      "df"
     ],
     "language": "python",
     "metadata": {},
     "outputs": [
      {
       "ename": "NameError",
       "evalue": "name 'df' is not defined",
       "output_type": "pyerr",
       "traceback": [
        "\u001b[1;31m---------------------------------------------------------------------------\u001b[0m\n\u001b[1;31mNameError\u001b[0m                                 Traceback (most recent call last)",
        "\u001b[1;32m<ipython-input-50-7ed0097d7e9e>\u001b[0m in \u001b[0;36m<module>\u001b[1;34m()\u001b[0m\n\u001b[1;32m----> 1\u001b[1;33m \u001b[0mdf\u001b[0m\u001b[1;33m\u001b[0m\u001b[0m\n\u001b[0m",
        "\u001b[1;31mNameError\u001b[0m: name 'df' is not defined"
       ]
      }
     ],
     "prompt_number": 50
    },
    {
     "cell_type": "code",
     "collapsed": false,
     "input": [
      "df2 = pd.read_csv('test1.csv', parse_dates=['date'], index_col='date') # Doesn't work\n",
      "df2['1']"
     ],
     "language": "python",
     "metadata": {},
     "outputs": [
      {
       "metadata": {},
       "output_type": "pyout",
       "prompt_number": 104,
       "text": [
        "date\n",
        "2000-01-01    110\n",
        "2000-01-02    111\n",
        "2000-01-03    112\n",
        "2000-01-04    113\n",
        "2000-01-05    114\n",
        "2000-01-06    115\n",
        "2000-01-07    116\n",
        "2000-01-08    117\n",
        "2000-01-09    118\n",
        "2000-01-10    119\n",
        "Name: 1, dtype: int64"
       ]
      }
     ],
     "prompt_number": 104
    },
    {
     "cell_type": "code",
     "collapsed": false,
     "input": [
      "df2.index.name # This name automatically added to certain kinds of plots"
     ],
     "language": "python",
     "metadata": {},
     "outputs": [
      {
       "metadata": {},
       "output_type": "pyout",
       "prompt_number": 105,
       "text": [
        "'date'"
       ]
      }
     ],
     "prompt_number": 105
    },
    {
     "cell_type": "code",
     "collapsed": false,
     "input": [
      "df3 = pd.read_csv('test2.csv', parse_dates=[['date', 'time']], index_col='date_time') \n",
      "df3"
     ],
     "language": "python",
     "metadata": {},
     "outputs": [
      {
       "html": [
        "<div style=\"max-width:1500px;overflow:auto;\">\n",
        "<table border=\"1\" class=\"dataframe\">\n",
        "  <thead>\n",
        "    <tr style=\"text-align: right;\">\n",
        "      <th></th>\n",
        "      <th>0</th>\n",
        "      <th>1</th>\n",
        "      <th>2</th>\n",
        "      <th>3</th>\n",
        "    </tr>\n",
        "    <tr>\n",
        "      <th>date_time</th>\n",
        "      <th></th>\n",
        "      <th></th>\n",
        "      <th></th>\n",
        "      <th></th>\n",
        "    </tr>\n",
        "  </thead>\n",
        "  <tbody>\n",
        "    <tr>\n",
        "      <th>2000-01-01 00:01:00</th>\n",
        "      <td>100</td>\n",
        "      <td>110</td>\n",
        "      <td>120</td>\n",
        "      <td>130</td>\n",
        "    </tr>\n",
        "    <tr>\n",
        "      <th>2000-01-02 00:01:01</th>\n",
        "      <td>101</td>\n",
        "      <td>111</td>\n",
        "      <td>121</td>\n",
        "      <td>131</td>\n",
        "    </tr>\n",
        "    <tr>\n",
        "      <th>2000-01-03 00:01:02</th>\n",
        "      <td>102</td>\n",
        "      <td>112</td>\n",
        "      <td>122</td>\n",
        "      <td>132</td>\n",
        "    </tr>\n",
        "    <tr>\n",
        "      <th>2000-01-04 00:01:03</th>\n",
        "      <td>103</td>\n",
        "      <td>113</td>\n",
        "      <td>123</td>\n",
        "      <td>133</td>\n",
        "    </tr>\n",
        "    <tr>\n",
        "      <th>2000-01-05 00:01:04</th>\n",
        "      <td>104</td>\n",
        "      <td>114</td>\n",
        "      <td>124</td>\n",
        "      <td>134</td>\n",
        "    </tr>\n",
        "    <tr>\n",
        "      <th>2000-01-06 00:01:05</th>\n",
        "      <td>105</td>\n",
        "      <td>115</td>\n",
        "      <td>125</td>\n",
        "      <td>135</td>\n",
        "    </tr>\n",
        "    <tr>\n",
        "      <th>2000-01-07 00:01:06</th>\n",
        "      <td>106</td>\n",
        "      <td>116</td>\n",
        "      <td>126</td>\n",
        "      <td>136</td>\n",
        "    </tr>\n",
        "    <tr>\n",
        "      <th>2000-01-08 00:01:07</th>\n",
        "      <td>107</td>\n",
        "      <td>117</td>\n",
        "      <td>127</td>\n",
        "      <td>137</td>\n",
        "    </tr>\n",
        "    <tr>\n",
        "      <th>2000-01-09 00:01:08</th>\n",
        "      <td>108</td>\n",
        "      <td>118</td>\n",
        "      <td>128</td>\n",
        "      <td>138</td>\n",
        "    </tr>\n",
        "    <tr>\n",
        "      <th>2000-01-10 00:01:09</th>\n",
        "      <td>109</td>\n",
        "      <td>119</td>\n",
        "      <td>129</td>\n",
        "      <td>139</td>\n",
        "    </tr>\n",
        "  </tbody>\n",
        "</table>\n",
        "</div>"
       ],
       "metadata": {},
       "output_type": "pyout",
       "prompt_number": 112,
       "text": [
        "                       0    1    2    3\n",
        "date_time                              \n",
        "2000-01-01 00:01:00  100  110  120  130\n",
        "2000-01-02 00:01:01  101  111  121  131\n",
        "2000-01-03 00:01:02  102  112  122  132\n",
        "2000-01-04 00:01:03  103  113  123  133\n",
        "2000-01-05 00:01:04  104  114  124  134\n",
        "2000-01-06 00:01:05  105  115  125  135\n",
        "2000-01-07 00:01:06  106  116  126  136\n",
        "2000-01-08 00:01:07  107  117  127  137\n",
        "2000-01-09 00:01:08  108  118  128  138\n",
        "2000-01-10 00:01:09  109  119  129  139"
       ]
      }
     ],
     "prompt_number": 112
    },
    {
     "cell_type": "code",
     "collapsed": false,
     "input": [
      "# Also possible \n",
      "df3 = pd.read_csv('test2.csv', parse_dates=[['time', 'date']], index_col='time_date')\n",
      "df3"
     ],
     "language": "python",
     "metadata": {},
     "outputs": [
      {
       "html": [
        "<div style=\"max-width:1500px;overflow:auto;\">\n",
        "<table border=\"1\" class=\"dataframe\">\n",
        "  <thead>\n",
        "    <tr style=\"text-align: right;\">\n",
        "      <th></th>\n",
        "      <th>0</th>\n",
        "      <th>1</th>\n",
        "      <th>2</th>\n",
        "      <th>3</th>\n",
        "    </tr>\n",
        "    <tr>\n",
        "      <th>time_date</th>\n",
        "      <th></th>\n",
        "      <th></th>\n",
        "      <th></th>\n",
        "      <th></th>\n",
        "    </tr>\n",
        "  </thead>\n",
        "  <tbody>\n",
        "    <tr>\n",
        "      <th>2000-01-01 00:01:00</th>\n",
        "      <td>100</td>\n",
        "      <td>110</td>\n",
        "      <td>120</td>\n",
        "      <td>130</td>\n",
        "    </tr>\n",
        "    <tr>\n",
        "      <th>2000-01-02 00:01:01</th>\n",
        "      <td>101</td>\n",
        "      <td>111</td>\n",
        "      <td>121</td>\n",
        "      <td>131</td>\n",
        "    </tr>\n",
        "    <tr>\n",
        "      <th>2000-01-03 00:01:02</th>\n",
        "      <td>102</td>\n",
        "      <td>112</td>\n",
        "      <td>122</td>\n",
        "      <td>132</td>\n",
        "    </tr>\n",
        "    <tr>\n",
        "      <th>2000-01-04 00:01:03</th>\n",
        "      <td>103</td>\n",
        "      <td>113</td>\n",
        "      <td>123</td>\n",
        "      <td>133</td>\n",
        "    </tr>\n",
        "    <tr>\n",
        "      <th>2000-01-05 00:01:04</th>\n",
        "      <td>104</td>\n",
        "      <td>114</td>\n",
        "      <td>124</td>\n",
        "      <td>134</td>\n",
        "    </tr>\n",
        "    <tr>\n",
        "      <th>2000-01-06 00:01:05</th>\n",
        "      <td>105</td>\n",
        "      <td>115</td>\n",
        "      <td>125</td>\n",
        "      <td>135</td>\n",
        "    </tr>\n",
        "    <tr>\n",
        "      <th>2000-01-07 00:01:06</th>\n",
        "      <td>106</td>\n",
        "      <td>116</td>\n",
        "      <td>126</td>\n",
        "      <td>136</td>\n",
        "    </tr>\n",
        "    <tr>\n",
        "      <th>2000-01-08 00:01:07</th>\n",
        "      <td>107</td>\n",
        "      <td>117</td>\n",
        "      <td>127</td>\n",
        "      <td>137</td>\n",
        "    </tr>\n",
        "    <tr>\n",
        "      <th>2000-01-09 00:01:08</th>\n",
        "      <td>108</td>\n",
        "      <td>118</td>\n",
        "      <td>128</td>\n",
        "      <td>138</td>\n",
        "    </tr>\n",
        "    <tr>\n",
        "      <th>2000-01-10 00:01:09</th>\n",
        "      <td>109</td>\n",
        "      <td>119</td>\n",
        "      <td>129</td>\n",
        "      <td>139</td>\n",
        "    </tr>\n",
        "  </tbody>\n",
        "</table>\n",
        "</div>"
       ],
       "metadata": {},
       "output_type": "pyout",
       "prompt_number": 114,
       "text": [
        "                       0    1    2    3\n",
        "time_date                              \n",
        "2000-01-01 00:01:00  100  110  120  130\n",
        "2000-01-02 00:01:01  101  111  121  131\n",
        "2000-01-03 00:01:02  102  112  122  132\n",
        "2000-01-04 00:01:03  103  113  123  133\n",
        "2000-01-05 00:01:04  104  114  124  134\n",
        "2000-01-06 00:01:05  105  115  125  135\n",
        "2000-01-07 00:01:06  106  116  126  136\n",
        "2000-01-08 00:01:07  107  117  127  137\n",
        "2000-01-09 00:01:08  108  118  128  138\n",
        "2000-01-10 00:01:09  109  119  129  139"
       ]
      }
     ],
     "prompt_number": 114
    },
    {
     "cell_type": "code",
     "collapsed": false,
     "input": [
      "pd.read_csv?"
     ],
     "language": "python",
     "metadata": {},
     "outputs": [],
     "prompt_number": 115
    }
   ],
   "metadata": {}
  }
 ]
}