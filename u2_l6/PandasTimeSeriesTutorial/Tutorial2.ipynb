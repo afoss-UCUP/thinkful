{
 "metadata": {
  "name": "",
  "signature": "sha256:f84f257198cf3928d315decc59056b11e438f4c11d76e0710e0cca9b77946868"
 },
 "nbformat": 3,
 "nbformat_minor": 0,
 "worksheets": [
  {
   "cells": [
    {
     "cell_type": "code",
     "collapsed": false,
     "input": [
      "# From minute 53\n",
      "# import numpy as np\n",
      "# from pandas import Series, DataFrame\n",
      "# import pandas as pd\n",
      "# pd.set_printoptions(notebook_repr_html=False)\n",
      "\n",
      "%matplotlib inline\n",
      "import numpy as np\n",
      "from pandas import Series, DataFrame\n",
      "import pandas as pd\n",
      "from datetime import datetime\n",
      "\n",
      "import matplotlib.pyplot as plt\n",
      "# pd.set_printoptions(notebook_repr_html=False)"
     ],
     "language": "python",
     "metadata": {},
     "outputs": [],
     "prompt_number": 22
    },
    {
     "cell_type": "code",
     "collapsed": false,
     "input": [
      "# Timestamp is a subclass of datetime.datetime\n",
      "pd.Timestamp.mro() # Method resolution order "
     ],
     "language": "python",
     "metadata": {},
     "outputs": [
      {
       "metadata": {},
       "output_type": "pyout",
       "prompt_number": 9,
       "text": [
        "[pandas.tslib.Timestamp,\n",
        " pandas.tslib._Timestamp,\n",
        " datetime.datetime,\n",
        " datetime.date,\n",
        " object]"
       ]
      }
     ],
     "prompt_number": 9
    },
    {
     "cell_type": "code",
     "collapsed": false,
     "input": [
      "stamp = pd.Timestamp('7/17/2012 10:06:45') # Method resolution order \n",
      "stamp"
     ],
     "language": "python",
     "metadata": {},
     "outputs": [
      {
       "metadata": {},
       "output_type": "pyout",
       "prompt_number": 11,
       "text": [
        "Timestamp('2012-07-17 10:06:45')"
       ]
      }
     ],
     "prompt_number": 11
    },
    {
     "cell_type": "code",
     "collapsed": false,
     "input": [
      "# If date is ambiguous, parser prefers American style ordered: month-day\n",
      "pd.to_datetime('17/7/2012 10:06:45', dayfirst=False) # Output in video is datetime.datetime(2012, 7, 17, 10, 6, 45)"
     ],
     "language": "python",
     "metadata": {},
     "outputs": [
      {
       "metadata": {},
       "output_type": "pyout",
       "prompt_number": 24,
       "text": [
        "Timestamp('2012-07-17 10:06:45')"
       ]
      }
     ],
     "prompt_number": 24
    },
    {
     "cell_type": "code",
     "collapsed": false,
     "input": [
      "pd.Timestamp(pd.to_datetime('17/7/2012 10:06:45', dayfirst=False))"
     ],
     "language": "python",
     "metadata": {},
     "outputs": [
      {
       "metadata": {},
       "output_type": "pyout",
       "prompt_number": 26,
       "text": [
        "Timestamp('2012-07-17 10:06:45')"
       ]
      }
     ],
     "prompt_number": 26
    },
    {
     "cell_type": "code",
     "collapsed": false,
     "input": [
      "stamp.year"
     ],
     "language": "python",
     "metadata": {},
     "outputs": [
      {
       "metadata": {},
       "output_type": "pyout",
       "prompt_number": 12,
       "text": [
        "2012"
       ]
      }
     ],
     "prompt_number": 12
    },
    {
     "cell_type": "code",
     "collapsed": false,
     "input": [
      "stamp.month"
     ],
     "language": "python",
     "metadata": {},
     "outputs": [
      {
       "metadata": {},
       "output_type": "pyout",
       "prompt_number": 14,
       "text": [
        "7"
       ]
      }
     ],
     "prompt_number": 14
    },
    {
     "cell_type": "code",
     "collapsed": false,
     "input": [
      "stamp.day"
     ],
     "language": "python",
     "metadata": {},
     "outputs": [
      {
       "metadata": {},
       "output_type": "pyout",
       "prompt_number": 15,
       "text": [
        "17"
       ]
      }
     ],
     "prompt_number": 15
    },
    {
     "cell_type": "code",
     "collapsed": false,
     "input": [
      "stamp.hour"
     ],
     "language": "python",
     "metadata": {},
     "outputs": [
      {
       "metadata": {},
       "output_type": "pyout",
       "prompt_number": 17,
       "text": [
        "10"
       ]
      }
     ],
     "prompt_number": 17
    },
    {
     "cell_type": "code",
     "collapsed": false,
     "input": [
      "stamp.minute"
     ],
     "language": "python",
     "metadata": {},
     "outputs": [
      {
       "metadata": {},
       "output_type": "pyout",
       "prompt_number": 18,
       "text": [
        "6"
       ]
      }
     ],
     "prompt_number": 18
    },
    {
     "cell_type": "code",
     "collapsed": false,
     "input": [
      "stamp.second"
     ],
     "language": "python",
     "metadata": {},
     "outputs": [
      {
       "metadata": {},
       "output_type": "pyout",
       "prompt_number": 19,
       "text": [
        "45"
       ]
      }
     ],
     "prompt_number": 19
    },
    {
     "cell_type": "code",
     "collapsed": false,
     "input": [
      "stamp.strftime('%Y%m%d')"
     ],
     "language": "python",
     "metadata": {},
     "outputs": [
      {
       "metadata": {},
       "output_type": "pyout",
       "prompt_number": 20,
       "text": [
        "'20120717'"
       ]
      }
     ],
     "prompt_number": 20
    },
    {
     "cell_type": "code",
     "collapsed": false,
     "input": [
      "stamp.value # nanosecond timestamp"
     ],
     "language": "python",
     "metadata": {},
     "outputs": [
      {
       "metadata": {},
       "output_type": "pyout",
       "prompt_number": 21,
       "text": [
        "1342519605000000000"
       ]
      }
     ],
     "prompt_number": 21
    },
    {
     "cell_type": "code",
     "collapsed": false,
     "input": [
      "dates = ['2012-07-16', '2012-07-18', '2012-07-20']\n",
      "dates"
     ],
     "language": "python",
     "metadata": {},
     "outputs": [
      {
       "metadata": {},
       "output_type": "pyout",
       "prompt_number": 23,
       "text": [
        "['2012-07-16', '2012-07-18', '2012-07-20']"
       ]
      }
     ],
     "prompt_number": 23
    },
    {
     "cell_type": "code",
     "collapsed": false,
     "input": [
      "Series(range(3), index=dates)"
     ],
     "language": "python",
     "metadata": {},
     "outputs": [
      {
       "metadata": {},
       "output_type": "pyout",
       "prompt_number": 27,
       "text": [
        "2012-07-16    0\n",
        "2012-07-18    1\n",
        "2012-07-20    2\n",
        "dtype: int64"
       ]
      }
     ],
     "prompt_number": 27
    },
    {
     "cell_type": "code",
     "collapsed": false,
     "input": [
      "Series(range(3), index=dates).index[0]"
     ],
     "language": "python",
     "metadata": {},
     "outputs": [
      {
       "metadata": {},
       "output_type": "pyout",
       "prompt_number": 28,
       "text": [
        "'2012-07-16'"
       ]
      }
     ],
     "prompt_number": 28
    },
    {
     "cell_type": "code",
     "collapsed": false,
     "input": [
      "# Convert strings to proper datetime index\n",
      "pd.DatetimeIndex(dates)"
     ],
     "language": "python",
     "metadata": {},
     "outputs": [
      {
       "metadata": {},
       "output_type": "pyout",
       "prompt_number": 29,
       "text": [
        "DatetimeIndex(['2012-07-16', '2012-07-18', '2012-07-20'], dtype='datetime64[ns]', freq=None, tz=None)"
       ]
      }
     ],
     "prompt_number": 29
    },
    {
     "cell_type": "code",
     "collapsed": false,
     "input": [
      "list(pd.to_datetime(dates, dayfirst=True))"
     ],
     "language": "python",
     "metadata": {},
     "outputs": [
      {
       "metadata": {},
       "output_type": "pyout",
       "prompt_number": 30,
       "text": [
        "[Timestamp('2012-07-16 00:00:00'),\n",
        " Timestamp('2012-07-18 00:00:00'),\n",
        " Timestamp('2012-07-20 00:00:00')]"
       ]
      }
     ],
     "prompt_number": 30
    },
    {
     "cell_type": "code",
     "collapsed": false,
     "input": [
      "ts = Series(range(3), index=pd.to_datetime(dates))\n",
      "ts.index[0]"
     ],
     "language": "python",
     "metadata": {},
     "outputs": [
      {
       "metadata": {},
       "output_type": "pyout",
       "prompt_number": 32,
       "text": [
        "Timestamp('2012-07-16 00:00:00')"
       ]
      }
     ],
     "prompt_number": 32
    },
    {
     "cell_type": "code",
     "collapsed": false,
     "input": [
      "isinstance(ts.index[0], datetime)"
     ],
     "language": "python",
     "metadata": {},
     "outputs": [
      {
       "metadata": {},
       "output_type": "pyout",
       "prompt_number": 33,
       "text": [
        "True"
       ]
      }
     ],
     "prompt_number": 33
    },
    {
     "cell_type": "code",
     "collapsed": false,
     "input": [
      "rng = pd.date_range('2012-07-17', periods=1000)"
     ],
     "language": "python",
     "metadata": {},
     "outputs": [],
     "prompt_number": 34
    },
    {
     "cell_type": "code",
     "collapsed": false,
     "input": [
      "rng\n"
     ],
     "language": "python",
     "metadata": {},
     "outputs": [
      {
       "metadata": {},
       "output_type": "pyout",
       "prompt_number": 35,
       "text": [
        "DatetimeIndex(['2012-07-17', '2012-07-18', '2012-07-19', '2012-07-20',\n",
        "               '2012-07-21', '2012-07-22', '2012-07-23', '2012-07-24',\n",
        "               '2012-07-25', '2012-07-26', \n",
        "               ...\n",
        "               '2015-04-03', '2015-04-04', '2015-04-05', '2015-04-06',\n",
        "               '2015-04-07', '2015-04-08', '2015-04-09', '2015-04-10',\n",
        "               '2015-04-11', '2015-04-12'],\n",
        "              dtype='datetime64[ns]', length=1000, freq='D', tz=None)"
       ]
      }
     ],
     "prompt_number": 35
    },
    {
     "cell_type": "code",
     "collapsed": false,
     "input": [
      "ts = Series(np.arange(1000), index=rng)\n",
      "# ts"
     ],
     "language": "python",
     "metadata": {},
     "outputs": [],
     "prompt_number": 37
    },
    {
     "cell_type": "code",
     "collapsed": false,
     "input": [
      "ts['2012-8-1']"
     ],
     "language": "python",
     "metadata": {},
     "outputs": [
      {
       "metadata": {},
       "output_type": "pyout",
       "prompt_number": 38,
       "text": [
        "15"
       ]
      }
     ],
     "prompt_number": 38
    },
    {
     "cell_type": "code",
     "collapsed": false,
     "input": [
      "# In Pandas slicing, the endpoint is inclusive\n",
      "ts[:'2012-8-1']"
     ],
     "language": "python",
     "metadata": {},
     "outputs": [
      {
       "metadata": {},
       "output_type": "pyout",
       "prompt_number": 39,
       "text": [
        "2012-07-17     0\n",
        "2012-07-18     1\n",
        "2012-07-19     2\n",
        "2012-07-20     3\n",
        "2012-07-21     4\n",
        "2012-07-22     5\n",
        "2012-07-23     6\n",
        "2012-07-24     7\n",
        "2012-07-25     8\n",
        "2012-07-26     9\n",
        "2012-07-27    10\n",
        "2012-07-28    11\n",
        "2012-07-29    12\n",
        "2012-07-30    13\n",
        "2012-07-31    14\n",
        "2012-08-01    15\n",
        "Freq: D, dtype: int64"
       ]
      }
     ],
     "prompt_number": 39
    },
    {
     "cell_type": "code",
     "collapsed": false,
     "input": [
      "# This did not work in tutorial: appears to be a recent feature\n",
      "ts2 = ts.take(np.random.permutation(len(ts)))\n",
      "ts2['2012-07-20 07:00': '2012-08-01 12:00']"
     ],
     "language": "python",
     "metadata": {},
     "outputs": [
      {
       "metadata": {},
       "output_type": "pyout",
       "prompt_number": 40,
       "text": [
        "2012-07-21     4\n",
        "2012-07-30    13\n",
        "2012-07-24     7\n",
        "2012-07-25     8\n",
        "2012-07-29    12\n",
        "2012-07-28    11\n",
        "2012-07-22     5\n",
        "2012-07-23     6\n",
        "2012-07-26     9\n",
        "2012-07-27    10\n",
        "2012-07-31    14\n",
        "2012-08-01    15\n",
        "dtype: int64"
       ]
      }
     ],
     "prompt_number": 40
    },
    {
     "cell_type": "code",
     "collapsed": false,
     "input": [
      "# ts2.sort_index() # Numpy does the sorting"
     ],
     "language": "python",
     "metadata": {},
     "outputs": [],
     "prompt_number": 42
    },
    {
     "cell_type": "code",
     "collapsed": false,
     "input": [
      "df = DataFrame(np.arange(4000).reshape((1000,4)), index=rng, columns=['Colorado', 'Texas', 'New York', 'Ohio'])"
     ],
     "language": "python",
     "metadata": {},
     "outputs": [],
     "prompt_number": 46
    },
    {
     "cell_type": "code",
     "collapsed": false,
     "input": [
      "df.head()"
     ],
     "language": "python",
     "metadata": {},
     "outputs": [
      {
       "html": [
        "<div style=\"max-width:1500px;overflow:auto;\">\n",
        "<table border=\"1\" class=\"dataframe\">\n",
        "  <thead>\n",
        "    <tr style=\"text-align: right;\">\n",
        "      <th></th>\n",
        "      <th>Colorado</th>\n",
        "      <th>Texas</th>\n",
        "      <th>New York</th>\n",
        "      <th>Ohio</th>\n",
        "    </tr>\n",
        "  </thead>\n",
        "  <tbody>\n",
        "    <tr>\n",
        "      <th>2012-07-17</th>\n",
        "      <td>0</td>\n",
        "      <td>1</td>\n",
        "      <td>2</td>\n",
        "      <td>3</td>\n",
        "    </tr>\n",
        "    <tr>\n",
        "      <th>2012-07-18</th>\n",
        "      <td>4</td>\n",
        "      <td>5</td>\n",
        "      <td>6</td>\n",
        "      <td>7</td>\n",
        "    </tr>\n",
        "    <tr>\n",
        "      <th>2012-07-19</th>\n",
        "      <td>8</td>\n",
        "      <td>9</td>\n",
        "      <td>10</td>\n",
        "      <td>11</td>\n",
        "    </tr>\n",
        "    <tr>\n",
        "      <th>2012-07-20</th>\n",
        "      <td>12</td>\n",
        "      <td>13</td>\n",
        "      <td>14</td>\n",
        "      <td>15</td>\n",
        "    </tr>\n",
        "    <tr>\n",
        "      <th>2012-07-21</th>\n",
        "      <td>16</td>\n",
        "      <td>17</td>\n",
        "      <td>18</td>\n",
        "      <td>19</td>\n",
        "    </tr>\n",
        "  </tbody>\n",
        "</table>\n",
        "</div>"
       ],
       "metadata": {},
       "output_type": "pyout",
       "prompt_number": 48,
       "text": [
        "            Colorado  Texas  New York  Ohio\n",
        "2012-07-17         0      1         2     3\n",
        "2012-07-18         4      5         6     7\n",
        "2012-07-19         8      9        10    11\n",
        "2012-07-20        12     13        14    15\n",
        "2012-07-21        16     17        18    19"
       ]
      }
     ],
     "prompt_number": 48
    },
    {
     "cell_type": "code",
     "collapsed": false,
     "input": [
      "# \"Because I'm selecting time series data from the rows, I need to use the .ix So for July 2012 data:\n",
      "df.ix['2012-07']"
     ],
     "language": "python",
     "metadata": {},
     "outputs": [
      {
       "html": [
        "<div style=\"max-width:1500px;overflow:auto;\">\n",
        "<table border=\"1\" class=\"dataframe\">\n",
        "  <thead>\n",
        "    <tr style=\"text-align: right;\">\n",
        "      <th></th>\n",
        "      <th>Colorado</th>\n",
        "      <th>Texas</th>\n",
        "      <th>New York</th>\n",
        "      <th>Ohio</th>\n",
        "    </tr>\n",
        "  </thead>\n",
        "  <tbody>\n",
        "    <tr>\n",
        "      <th>2012-07-17</th>\n",
        "      <td>0</td>\n",
        "      <td>1</td>\n",
        "      <td>2</td>\n",
        "      <td>3</td>\n",
        "    </tr>\n",
        "    <tr>\n",
        "      <th>2012-07-18</th>\n",
        "      <td>4</td>\n",
        "      <td>5</td>\n",
        "      <td>6</td>\n",
        "      <td>7</td>\n",
        "    </tr>\n",
        "    <tr>\n",
        "      <th>2012-07-19</th>\n",
        "      <td>8</td>\n",
        "      <td>9</td>\n",
        "      <td>10</td>\n",
        "      <td>11</td>\n",
        "    </tr>\n",
        "    <tr>\n",
        "      <th>2012-07-20</th>\n",
        "      <td>12</td>\n",
        "      <td>13</td>\n",
        "      <td>14</td>\n",
        "      <td>15</td>\n",
        "    </tr>\n",
        "    <tr>\n",
        "      <th>2012-07-21</th>\n",
        "      <td>16</td>\n",
        "      <td>17</td>\n",
        "      <td>18</td>\n",
        "      <td>19</td>\n",
        "    </tr>\n",
        "    <tr>\n",
        "      <th>2012-07-22</th>\n",
        "      <td>20</td>\n",
        "      <td>21</td>\n",
        "      <td>22</td>\n",
        "      <td>23</td>\n",
        "    </tr>\n",
        "    <tr>\n",
        "      <th>2012-07-23</th>\n",
        "      <td>24</td>\n",
        "      <td>25</td>\n",
        "      <td>26</td>\n",
        "      <td>27</td>\n",
        "    </tr>\n",
        "    <tr>\n",
        "      <th>2012-07-24</th>\n",
        "      <td>28</td>\n",
        "      <td>29</td>\n",
        "      <td>30</td>\n",
        "      <td>31</td>\n",
        "    </tr>\n",
        "    <tr>\n",
        "      <th>2012-07-25</th>\n",
        "      <td>32</td>\n",
        "      <td>33</td>\n",
        "      <td>34</td>\n",
        "      <td>35</td>\n",
        "    </tr>\n",
        "    <tr>\n",
        "      <th>2012-07-26</th>\n",
        "      <td>36</td>\n",
        "      <td>37</td>\n",
        "      <td>38</td>\n",
        "      <td>39</td>\n",
        "    </tr>\n",
        "    <tr>\n",
        "      <th>2012-07-27</th>\n",
        "      <td>40</td>\n",
        "      <td>41</td>\n",
        "      <td>42</td>\n",
        "      <td>43</td>\n",
        "    </tr>\n",
        "    <tr>\n",
        "      <th>2012-07-28</th>\n",
        "      <td>44</td>\n",
        "      <td>45</td>\n",
        "      <td>46</td>\n",
        "      <td>47</td>\n",
        "    </tr>\n",
        "    <tr>\n",
        "      <th>2012-07-29</th>\n",
        "      <td>48</td>\n",
        "      <td>49</td>\n",
        "      <td>50</td>\n",
        "      <td>51</td>\n",
        "    </tr>\n",
        "    <tr>\n",
        "      <th>2012-07-30</th>\n",
        "      <td>52</td>\n",
        "      <td>53</td>\n",
        "      <td>54</td>\n",
        "      <td>55</td>\n",
        "    </tr>\n",
        "    <tr>\n",
        "      <th>2012-07-31</th>\n",
        "      <td>56</td>\n",
        "      <td>57</td>\n",
        "      <td>58</td>\n",
        "      <td>59</td>\n",
        "    </tr>\n",
        "  </tbody>\n",
        "</table>\n",
        "</div>"
       ],
       "metadata": {},
       "output_type": "pyout",
       "prompt_number": 49,
       "text": [
        "            Colorado  Texas  New York  Ohio\n",
        "2012-07-17         0      1         2     3\n",
        "2012-07-18         4      5         6     7\n",
        "2012-07-19         8      9        10    11\n",
        "2012-07-20        12     13        14    15\n",
        "2012-07-21        16     17        18    19\n",
        "2012-07-22        20     21        22    23\n",
        "2012-07-23        24     25        26    27\n",
        "2012-07-24        28     29        30    31\n",
        "2012-07-25        32     33        34    35\n",
        "2012-07-26        36     37        38    39\n",
        "2012-07-27        40     41        42    43\n",
        "2012-07-28        44     45        46    47\n",
        "2012-07-29        48     49        50    51\n",
        "2012-07-30        52     53        54    55\n",
        "2012-07-31        56     57        58    59"
       ]
      }
     ],
     "prompt_number": 49
    },
    {
     "cell_type": "code",
     "collapsed": false,
     "input": [
      "from datetime import timedelta"
     ],
     "language": "python",
     "metadata": {},
     "outputs": [],
     "prompt_number": 50
    },
    {
     "cell_type": "code",
     "collapsed": false,
     "input": [
      "start = datetime(2012, 12, 31)\n",
      "df.ix[start:start + timedelta(days=11)]"
     ],
     "language": "python",
     "metadata": {},
     "outputs": [
      {
       "html": [
        "<div style=\"max-width:1500px;overflow:auto;\">\n",
        "<table border=\"1\" class=\"dataframe\">\n",
        "  <thead>\n",
        "    <tr style=\"text-align: right;\">\n",
        "      <th></th>\n",
        "      <th>Colorado</th>\n",
        "      <th>Texas</th>\n",
        "      <th>New York</th>\n",
        "      <th>Ohio</th>\n",
        "    </tr>\n",
        "  </thead>\n",
        "  <tbody>\n",
        "    <tr>\n",
        "      <th>2012-12-31</th>\n",
        "      <td>668</td>\n",
        "      <td>669</td>\n",
        "      <td>670</td>\n",
        "      <td>671</td>\n",
        "    </tr>\n",
        "    <tr>\n",
        "      <th>2013-01-01</th>\n",
        "      <td>672</td>\n",
        "      <td>673</td>\n",
        "      <td>674</td>\n",
        "      <td>675</td>\n",
        "    </tr>\n",
        "    <tr>\n",
        "      <th>2013-01-02</th>\n",
        "      <td>676</td>\n",
        "      <td>677</td>\n",
        "      <td>678</td>\n",
        "      <td>679</td>\n",
        "    </tr>\n",
        "    <tr>\n",
        "      <th>2013-01-03</th>\n",
        "      <td>680</td>\n",
        "      <td>681</td>\n",
        "      <td>682</td>\n",
        "      <td>683</td>\n",
        "    </tr>\n",
        "    <tr>\n",
        "      <th>2013-01-04</th>\n",
        "      <td>684</td>\n",
        "      <td>685</td>\n",
        "      <td>686</td>\n",
        "      <td>687</td>\n",
        "    </tr>\n",
        "    <tr>\n",
        "      <th>2013-01-05</th>\n",
        "      <td>688</td>\n",
        "      <td>689</td>\n",
        "      <td>690</td>\n",
        "      <td>691</td>\n",
        "    </tr>\n",
        "    <tr>\n",
        "      <th>2013-01-06</th>\n",
        "      <td>692</td>\n",
        "      <td>693</td>\n",
        "      <td>694</td>\n",
        "      <td>695</td>\n",
        "    </tr>\n",
        "    <tr>\n",
        "      <th>2013-01-07</th>\n",
        "      <td>696</td>\n",
        "      <td>697</td>\n",
        "      <td>698</td>\n",
        "      <td>699</td>\n",
        "    </tr>\n",
        "    <tr>\n",
        "      <th>2013-01-08</th>\n",
        "      <td>700</td>\n",
        "      <td>701</td>\n",
        "      <td>702</td>\n",
        "      <td>703</td>\n",
        "    </tr>\n",
        "    <tr>\n",
        "      <th>2013-01-09</th>\n",
        "      <td>704</td>\n",
        "      <td>705</td>\n",
        "      <td>706</td>\n",
        "      <td>707</td>\n",
        "    </tr>\n",
        "    <tr>\n",
        "      <th>2013-01-10</th>\n",
        "      <td>708</td>\n",
        "      <td>709</td>\n",
        "      <td>710</td>\n",
        "      <td>711</td>\n",
        "    </tr>\n",
        "    <tr>\n",
        "      <th>2013-01-11</th>\n",
        "      <td>712</td>\n",
        "      <td>713</td>\n",
        "      <td>714</td>\n",
        "      <td>715</td>\n",
        "    </tr>\n",
        "  </tbody>\n",
        "</table>\n",
        "</div>"
       ],
       "metadata": {},
       "output_type": "pyout",
       "prompt_number": 52,
       "text": [
        "            Colorado  Texas  New York  Ohio\n",
        "2012-12-31       668    669       670   671\n",
        "2013-01-01       672    673       674   675\n",
        "2013-01-02       676    677       678   679\n",
        "2013-01-03       680    681       682   683\n",
        "2013-01-04       684    685       686   687\n",
        "2013-01-05       688    689       690   691\n",
        "2013-01-06       692    693       694   695\n",
        "2013-01-07       696    697       698   699\n",
        "2013-01-08       700    701       702   703\n",
        "2013-01-09       704    705       706   707\n",
        "2013-01-10       708    709       710   711\n",
        "2013-01-11       712    713       714   715"
       ]
      }
     ],
     "prompt_number": 52
    },
    {
     "cell_type": "code",
     "collapsed": false,
     "input": [
      "datetime(2013, 1, 11, 0, 0)"
     ],
     "language": "python",
     "metadata": {},
     "outputs": [
      {
       "metadata": {},
       "output_type": "pyout",
       "prompt_number": 54,
       "text": [
        "datetime.datetime(2013, 1, 11, 0, 0)"
       ]
      }
     ],
     "prompt_number": 54
    },
    {
     "cell_type": "code",
     "collapsed": false,
     "input": [
      "list(pd.date_range('2000-01-01', periods=5))"
     ],
     "language": "python",
     "metadata": {},
     "outputs": [
      {
       "metadata": {},
       "output_type": "pyout",
       "prompt_number": 56,
       "text": [
        "[Timestamp('2000-01-01 00:00:00', offset='D'),\n",
        " Timestamp('2000-01-02 00:00:00', offset='D'),\n",
        " Timestamp('2000-01-03 00:00:00', offset='D'),\n",
        " Timestamp('2000-01-04 00:00:00', offset='D'),\n",
        " Timestamp('2000-01-05 00:00:00', offset='D')]"
       ]
      }
     ],
     "prompt_number": 56
    },
    {
     "cell_type": "code",
     "collapsed": false,
     "input": [
      "list(pd.date_range('2000-01-01', periods=5, freq='M')) # Moves everything to month end"
     ],
     "language": "python",
     "metadata": {},
     "outputs": [
      {
       "metadata": {},
       "output_type": "pyout",
       "prompt_number": 57,
       "text": [
        "[Timestamp('2000-01-31 00:00:00', offset='M'),\n",
        " Timestamp('2000-02-29 00:00:00', offset='M'),\n",
        " Timestamp('2000-03-31 00:00:00', offset='M'),\n",
        " Timestamp('2000-04-30 00:00:00', offset='M'),\n",
        " Timestamp('2000-05-31 00:00:00', offset='M')]"
       ]
      }
     ],
     "prompt_number": 57
    },
    {
     "cell_type": "code",
     "collapsed": false,
     "input": [
      "list(pd.date_range('2000-01-01', periods=5, freq='BMS')) # Moves everything to month end"
     ],
     "language": "python",
     "metadata": {},
     "outputs": [
      {
       "metadata": {},
       "output_type": "pyout",
       "prompt_number": 58,
       "text": [
        "[Timestamp('2000-01-03 00:00:00', offset='BMS'),\n",
        " Timestamp('2000-02-01 00:00:00', offset='BMS'),\n",
        " Timestamp('2000-03-01 00:00:00', offset='BMS'),\n",
        " Timestamp('2000-04-03 00:00:00', offset='BMS'),\n",
        " Timestamp('2000-05-01 00:00:00', offset='BMS')]"
       ]
      }
     ],
     "prompt_number": 58
    },
    {
     "cell_type": "code",
     "collapsed": false,
     "input": [
      "list(pd.date_range('2000-01-01', periods=5, freq='A-JUN')) # Moves everything to month end"
     ],
     "language": "python",
     "metadata": {},
     "outputs": [
      {
       "metadata": {},
       "output_type": "pyout",
       "prompt_number": 59,
       "text": [
        "[Timestamp('2000-06-30 00:00:00', offset='A-JUN'),\n",
        " Timestamp('2001-06-30 00:00:00', offset='A-JUN'),\n",
        " Timestamp('2002-06-30 00:00:00', offset='A-JUN'),\n",
        " Timestamp('2003-06-30 00:00:00', offset='A-JUN'),\n",
        " Timestamp('2004-06-30 00:00:00', offset='A-JUN')]"
       ]
      }
     ],
     "prompt_number": 59
    },
    {
     "cell_type": "code",
     "collapsed": false,
     "input": [
      "list(pd.date_range('2000-01-01', periods=5, freq='Q-DEC')) # Moves everything to month end"
     ],
     "language": "python",
     "metadata": {},
     "outputs": [
      {
       "metadata": {},
       "output_type": "pyout",
       "prompt_number": 60,
       "text": [
        "[Timestamp('2000-03-31 00:00:00', offset='Q-DEC'),\n",
        " Timestamp('2000-06-30 00:00:00', offset='Q-DEC'),\n",
        " Timestamp('2000-09-30 00:00:00', offset='Q-DEC'),\n",
        " Timestamp('2000-12-31 00:00:00', offset='Q-DEC'),\n",
        " Timestamp('2001-03-31 00:00:00', offset='Q-DEC')]"
       ]
      }
     ],
     "prompt_number": 60
    },
    {
     "cell_type": "code",
     "collapsed": false,
     "input": [
      "list(pd.date_range('2000-01-01', periods=5, freq='WOM-3FRI')) # Third Fri of each month"
     ],
     "language": "python",
     "metadata": {},
     "outputs": [
      {
       "metadata": {},
       "output_type": "pyout",
       "prompt_number": 62,
       "text": [
        "[Timestamp('2000-01-21 00:00:00', offset='WOM-3FRI'),\n",
        " Timestamp('2000-02-18 00:00:00', offset='WOM-3FRI'),\n",
        " Timestamp('2000-03-17 00:00:00', offset='WOM-3FRI'),\n",
        " Timestamp('2000-04-21 00:00:00', offset='WOM-3FRI'),\n",
        " Timestamp('2000-05-19 00:00:00', offset='WOM-3FRI')]"
       ]
      }
     ],
     "prompt_number": 62
    },
    {
     "cell_type": "code",
     "collapsed": false,
     "input": [
      "# How to deal with time series with different date ranges / dates (Austin-SD temp example redux)\n",
      "dates = pd.date_range('2012-07-16', '2012-07-21')\n",
      "atemps = Series([101.5, 98, 95, 99, 100, 92], index=dates)\n",
      "sdtemps = Series([73, 78, 77, 78, 78, 77], index=dates)\n",
      "temps = DataFrame({'Austin': atemps, 'San Diego': sdtemps})"
     ],
     "language": "python",
     "metadata": {},
     "outputs": [
      {
       "html": [
        "<div style=\"max-width:1500px;overflow:auto;\">\n",
        "<table border=\"1\" class=\"dataframe\">\n",
        "  <thead>\n",
        "    <tr style=\"text-align: right;\">\n",
        "      <th></th>\n",
        "      <th>Austin</th>\n",
        "      <th>San Diego</th>\n",
        "    </tr>\n",
        "  </thead>\n",
        "  <tbody>\n",
        "    <tr>\n",
        "      <th>2012-07-16</th>\n",
        "      <td>101.5</td>\n",
        "      <td>73</td>\n",
        "    </tr>\n",
        "    <tr>\n",
        "      <th>2012-07-17</th>\n",
        "      <td>98.0</td>\n",
        "      <td>78</td>\n",
        "    </tr>\n",
        "    <tr>\n",
        "      <th>2012-07-18</th>\n",
        "      <td>95.0</td>\n",
        "      <td>77</td>\n",
        "    </tr>\n",
        "    <tr>\n",
        "      <th>2012-07-19</th>\n",
        "      <td>99.0</td>\n",
        "      <td>78</td>\n",
        "    </tr>\n",
        "    <tr>\n",
        "      <th>2012-07-20</th>\n",
        "      <td>100.0</td>\n",
        "      <td>78</td>\n",
        "    </tr>\n",
        "    <tr>\n",
        "      <th>2012-07-21</th>\n",
        "      <td>92.0</td>\n",
        "      <td>77</td>\n",
        "    </tr>\n",
        "  </tbody>\n",
        "</table>\n",
        "</div>"
       ],
       "metadata": {},
       "output_type": "pyout",
       "prompt_number": 63,
       "text": [
        "            Austin  San Diego\n",
        "2012-07-16   101.5         73\n",
        "2012-07-17    98.0         78\n",
        "2012-07-18    95.0         77\n",
        "2012-07-19    99.0         78\n",
        "2012-07-20   100.0         78\n",
        "2012-07-21    92.0         77"
       ]
      }
     ],
     "prompt_number": 63
    },
    {
     "cell_type": "code",
     "collapsed": false,
     "input": [
      "sdtemps = temps['San Diego'].drop(temps.index[3])"
     ],
     "language": "python",
     "metadata": {},
     "outputs": [],
     "prompt_number": 64
    },
    {
     "cell_type": "code",
     "collapsed": false,
     "input": [
      "diff = atemps - sdtemps # Pandas realigns\n",
      "diff"
     ],
     "language": "python",
     "metadata": {},
     "outputs": [
      {
       "metadata": {},
       "output_type": "pyout",
       "prompt_number": 69,
       "text": [
        "2012-07-16    28.5\n",
        "2012-07-17    20.0\n",
        "2012-07-18    18.0\n",
        "2012-07-19     NaN\n",
        "2012-07-20    22.0\n",
        "2012-07-21    15.0\n",
        "dtype: float64"
       ]
      }
     ],
     "prompt_number": 69
    },
    {
     "cell_type": "code",
     "collapsed": false,
     "input": [
      "diff.fillna(method='ffill')"
     ],
     "language": "python",
     "metadata": {},
     "outputs": [
      {
       "metadata": {},
       "output_type": "pyout",
       "prompt_number": 70,
       "text": [
        "2012-07-16    28.5\n",
        "2012-07-17    20.0\n",
        "2012-07-18    18.0\n",
        "2012-07-19    18.0\n",
        "2012-07-20    22.0\n",
        "2012-07-21    15.0\n",
        "dtype: float64"
       ]
      }
     ],
     "prompt_number": 70
    },
    {
     "cell_type": "code",
     "collapsed": false,
     "input": [
      "diff.fillna(0) # Fill NaN with 0"
     ],
     "language": "python",
     "metadata": {},
     "outputs": [
      {
       "metadata": {},
       "output_type": "pyout",
       "prompt_number": 71,
       "text": [
        "2012-07-16    28.5\n",
        "2012-07-17    20.0\n",
        "2012-07-18    18.0\n",
        "2012-07-19     0.0\n",
        "2012-07-20    22.0\n",
        "2012-07-21    15.0\n",
        "dtype: float64"
       ]
      }
     ],
     "prompt_number": 71
    },
    {
     "cell_type": "code",
     "collapsed": false,
     "input": [],
     "language": "python",
     "metadata": {},
     "outputs": []
    }
   ],
   "metadata": {}
  }
 ]
}