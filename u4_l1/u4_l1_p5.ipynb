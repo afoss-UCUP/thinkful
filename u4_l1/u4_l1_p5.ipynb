{
 "metadata": {
  "name": "",
  "signature": "sha256:56081a647a0cdd6d288aa69beed6f08cfbafa5dde45f84159dbc0a8486f5c1b5"
 },
 "nbformat": 3,
 "nbformat_minor": 0,
 "worksheets": [
  {
   "cells": [
    {
     "cell_type": "markdown",
     "metadata": {},
     "source": [
      "Take the loan data and process it as you did previously to build your linear regression model.\n",
      "\n",
      "Break the data-set into 10 segments following the example provided here in KFold .\n",
      "\n",
      "Compute each of the performance metric (MAE, MSE or R2) for all the folds. \n",
      "The average would be the performance of your model.\n",
      "\n",
      "Comment on each of the performance metric you obtained."
     ]
    },
    {
     "cell_type": "code",
     "collapsed": false,
     "input": [
      "import matplotlib.pyplot as plt\n",
      "import numpy as np\n",
      "import pandas as pd\n",
      "import statsmodels.api as sm\n",
      "import statsmodels.formula.api as smf\n",
      "from sklearn.cross_validation import KFold\n",
      "from sklearn.metrics import mean_squared_error, mean_absolute_error, r2_score"
     ],
     "language": "python",
     "metadata": {},
     "outputs": [],
     "prompt_number": 120
    },
    {
     "cell_type": "code",
     "collapsed": false,
     "input": [
      "# loansData = pd.read_csv('https://spark-public.s3.amazonaws.com/dataanalysis/loansData.csv')\n",
      "loansData = pd.read_csv('loansData.csv')\n",
      "\n",
      "\n",
      "loansData['FICO.Score'] = loansData['FICO.Range'].map(lambda x: int(x.split('-')[0]))\n",
      "\n",
      "intrate = [float(ir.strip('%')) for ir in loansData['Interest.Rate']] # list\n",
      "loanamt = loansData['Amount.Requested'] # Series\n",
      "fico = loansData['FICO.Score'] # Series\n",
      "\n",
      "k = 10\n",
      "n = len(loansData['Interest.Rate'])\n",
      "kf = KFold(n, n_folds=k) \n",
      "\n",
      "i = 1\n",
      "for train, test in kf:\n",
      "    \n",
      "    intrate = pd.Series(intrate).iloc[min(train):max(train)]\n",
      "    loanamt = loanamt.iloc[min(train):max(train)]\n",
      "    fico = fico.iloc[min(train):max(train)]\n",
      "\n",
      "    x1 = np.matrix(fico).transpose()     # fico is a series; transpose converts vertically\n",
      "    x2 = np.matrix(loanamt).transpose()\n",
      "\n",
      "    train_X = np.column_stack([x1,x2])\n",
      "    train_y = np.matrix(intrate).transpose()\n",
      "\n",
      "    X = sm.add_constant(train_X)\n",
      "\n",
      "    model = sm.OLS(train_y,X)\n",
      "    f = model.fit()   \n",
      "#     print f.summary()    \n",
      "\n",
      "    # TEST \n",
      "    intrate = pd.Series(intrate).iloc[min(test):max(test)]\n",
      "    loanamt = loanamt.iloc[min(test):max(test)]\n",
      "    fico = fico.iloc[min(test):max(test)]\n",
      "\n",
      "    x1 = np.matrix(fico).transpose()\n",
      "    x2 = np.matrix(loanamt).transpose()\n",
      "\n",
      "    test_X = np.column_stack([x1,x2])\n",
      "\n",
      "    X = sm.add_constant(test_X)    \n",
      "\n",
      "    y_actual = test_y = np.matrix(intrate).transpose() \n",
      "\n",
      "    y_predicted = f.predict(X)\n",
      "\n",
      "    print y_actual, y_predicted\n",
      "\n",
      "    rms = mean_squared_error(y_actual, y_predicted)\n",
      "    mas = mean_absolute_error(y_actual, y_predicted)\n",
      "    r2  = r2_score(y_actual, y_predicted)\n",
      "\n",
      "    print float(rms)/len(kf), float(mas)/len(kf), float(r2)/len(kf)\n",
      "    \n",
      "    i += 1\n",
      "    \n",
      "    \n",
      "       \n",
      "    \n",
      "#     train_df = pd.DataFrame({'X': train_X, 'y': train_y})\n",
      "#     test_df = pd.DataFrame({'X': test_X, 'y': test_y})    \n",
      "    \n",
      "#     # # Linear Fit\n",
      "#     poly_linear = smf.ols(formula='y ~ 1 + X', data=train_df).fit()\n",
      "#     y_actual = test_df['y']\n",
      "#     y_predicted = poly_linear.predict({'X': test_df['X']}) # Pass DF that matches the formula (Kyle's code)\n",
      "#     rms = mean_squared_error(y_actual, y_predicted)\n",
      "#     mas = mean_absolute_error(y_actual, y_predicted)\n",
      "#     r2 = r2_score(y_actual, y_predicted)\n",
      "#     print rms, mas, r2\n",
      "    \n",
      "    \n",
      "\n",
      "# rms = mean_squared_error(y_actual, y_predicted)\n",
      "# mas = mean_absolute_error(y_actual, y_predicted)\n",
      "# r2 = r2_score(y_actual, y_predicted)\n",
      "\n",
      "# Mean Squared Error\n",
      "# Mean absolute error"
     ],
     "language": "python",
     "metadata": {},
     "outputs": [
      {
       "ename": "ValueError",
       "evalue": "all the input array dimensions except for the concatenation axis must match exactly",
       "output_type": "pyerr",
       "traceback": [
        "\u001b[1;31m---------------------------------------------------------------------------\u001b[0m\n\u001b[1;31mValueError\u001b[0m                                Traceback (most recent call last)",
        "\u001b[1;32m<ipython-input-169-cdffcea10bfd>\u001b[0m in \u001b[0;36m<module>\u001b[1;34m()\u001b[0m\n\u001b[0;32m     23\u001b[0m     \u001b[0mx2\u001b[0m \u001b[1;33m=\u001b[0m \u001b[0mnp\u001b[0m\u001b[1;33m.\u001b[0m\u001b[0mmatrix\u001b[0m\u001b[1;33m(\u001b[0m\u001b[0mloanamt\u001b[0m\u001b[1;33m)\u001b[0m\u001b[1;33m.\u001b[0m\u001b[0mtranspose\u001b[0m\u001b[1;33m(\u001b[0m\u001b[1;33m)\u001b[0m\u001b[1;33m\u001b[0m\u001b[0m\n\u001b[0;32m     24\u001b[0m \u001b[1;33m\u001b[0m\u001b[0m\n\u001b[1;32m---> 25\u001b[1;33m     \u001b[0mtrain_X\u001b[0m \u001b[1;33m=\u001b[0m \u001b[0mnp\u001b[0m\u001b[1;33m.\u001b[0m\u001b[0mcolumn_stack\u001b[0m\u001b[1;33m(\u001b[0m\u001b[1;33m[\u001b[0m\u001b[0mx1\u001b[0m\u001b[1;33m,\u001b[0m\u001b[0mx2\u001b[0m\u001b[1;33m]\u001b[0m\u001b[1;33m)\u001b[0m\u001b[1;33m\u001b[0m\u001b[0m\n\u001b[0m\u001b[0;32m     26\u001b[0m     \u001b[0mtrain_y\u001b[0m \u001b[1;33m=\u001b[0m \u001b[0mnp\u001b[0m\u001b[1;33m.\u001b[0m\u001b[0mmatrix\u001b[0m\u001b[1;33m(\u001b[0m\u001b[0mintrate\u001b[0m\u001b[1;33m)\u001b[0m\u001b[1;33m.\u001b[0m\u001b[0mtranspose\u001b[0m\u001b[1;33m(\u001b[0m\u001b[1;33m)\u001b[0m\u001b[1;33m\u001b[0m\u001b[0m\n\u001b[0;32m     27\u001b[0m \u001b[1;33m\u001b[0m\u001b[0m\n",
        "\u001b[1;32m/usr/lib64/python2.7/site-packages/numpy/lib/shape_base.pyc\u001b[0m in \u001b[0;36mcolumn_stack\u001b[1;34m(tup)\u001b[0m\n\u001b[0;32m    315\u001b[0m             \u001b[0marr\u001b[0m \u001b[1;33m=\u001b[0m \u001b[0marray\u001b[0m\u001b[1;33m(\u001b[0m\u001b[0marr\u001b[0m\u001b[1;33m,\u001b[0m \u001b[0mcopy\u001b[0m\u001b[1;33m=\u001b[0m\u001b[0mFalse\u001b[0m\u001b[1;33m,\u001b[0m \u001b[0msubok\u001b[0m\u001b[1;33m=\u001b[0m\u001b[0mTrue\u001b[0m\u001b[1;33m,\u001b[0m \u001b[0mndmin\u001b[0m\u001b[1;33m=\u001b[0m\u001b[1;36m2\u001b[0m\u001b[1;33m)\u001b[0m\u001b[1;33m.\u001b[0m\u001b[0mT\u001b[0m\u001b[1;33m\u001b[0m\u001b[0m\n\u001b[0;32m    316\u001b[0m         \u001b[0marrays\u001b[0m\u001b[1;33m.\u001b[0m\u001b[0mappend\u001b[0m\u001b[1;33m(\u001b[0m\u001b[0marr\u001b[0m\u001b[1;33m)\u001b[0m\u001b[1;33m\u001b[0m\u001b[0m\n\u001b[1;32m--> 317\u001b[1;33m     \u001b[1;32mreturn\u001b[0m \u001b[0m_nx\u001b[0m\u001b[1;33m.\u001b[0m\u001b[0mconcatenate\u001b[0m\u001b[1;33m(\u001b[0m\u001b[0marrays\u001b[0m\u001b[1;33m,\u001b[0m \u001b[1;36m1\u001b[0m\u001b[1;33m)\u001b[0m\u001b[1;33m\u001b[0m\u001b[0m\n\u001b[0m\u001b[0;32m    318\u001b[0m \u001b[1;33m\u001b[0m\u001b[0m\n\u001b[0;32m    319\u001b[0m \u001b[1;32mdef\u001b[0m \u001b[0mdstack\u001b[0m\u001b[1;33m(\u001b[0m\u001b[0mtup\u001b[0m\u001b[1;33m)\u001b[0m\u001b[1;33m:\u001b[0m\u001b[1;33m\u001b[0m\u001b[0m\n",
        "\u001b[1;31mValueError\u001b[0m: all the input array dimensions except for the concatenation axis must match exactly"
       ]
      }
     ],
     "prompt_number": 169
    },
    {
     "cell_type": "code",
     "collapsed": false,
     "input": [],
     "language": "python",
     "metadata": {},
     "outputs": []
    }
   ],
   "metadata": {}
  }
 ]
}