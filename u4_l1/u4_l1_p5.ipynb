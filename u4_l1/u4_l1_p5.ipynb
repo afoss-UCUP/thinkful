{
 "metadata": {
  "name": "",
  "signature": "sha256:934aff5c457f51ba28dd87b3195a91c8868119f3662132b85e4af989b575053f"
 },
 "nbformat": 3,
 "nbformat_minor": 0,
 "worksheets": [
  {
   "cells": [
    {
     "cell_type": "markdown",
     "metadata": {},
     "source": [
      "Take the loan data and process it as you did previously to build your linear regression model.\n",
      "\n",
      "Break the data-set into 10 segments following the example provided here in KFold .\n",
      "\n",
      "Compute each of the performance metric (MAE, MSE or R2) for all the folds. \n",
      "The average would be the performance of your model.\n",
      "\n",
      "Comment on each of the performance metric you obtained."
     ]
    },
    {
     "cell_type": "code",
     "collapsed": false,
     "input": [
      "import matplotlib.pyplot as plt\n",
      "import numpy as np\n",
      "import pandas as pd\n",
      "import statsmodels.api as sm\n",
      "import statsmodels.formula.api as smf\n",
      "from sklearn.cross_validation import KFold\n",
      "from sklearn.metrics import mean_squared_error, mean_absolute_error, r2_score"
     ],
     "language": "python",
     "metadata": {},
     "outputs": [],
     "prompt_number": 83
    },
    {
     "cell_type": "code",
     "collapsed": false,
     "input": [
      "loansData = pd.read_csv('https://spark-public.s3.amazonaws.com/dataanalysis/loansData.csv')\n",
      "\n",
      "loansData['FICO.Score'] = loansData['FICO.Range'].map(lambda x: int(x.split('-')[0]))\n",
      "\n",
      "intrate = [float(ir.strip('%')) for ir in loansData['Interest.Rate']] # list\n",
      "loanamt = loansData['Amount.Requested'] # Series\n",
      "fico = loansData['FICO.Score'] # Series\n",
      "\n",
      "k = 10\n",
      "n = len(loansData['Interest.Rate'])\n",
      "kf = KFold(n, n_folds=k) \n",
      "\n",
      "\n",
      "for train, test in kf:\n",
      "    intrate = pd.Series(intrate).iloc[train]\n",
      "    loanamt = loanamt.iloc[train]\n",
      "    fico = fico.iloc[train]\n",
      "\n",
      "    x1 = np.matrix(fico).transpose()\n",
      "    x2 = np.matrix(loanamt).transpose()\n",
      "    \n",
      "    train_X = np.column_stack([x1,x2])\n",
      "    train_y = np.matrix(intrate).transpose()\n",
      "    \n",
      "    intrate = pd.Series(intrate).iloc[test]\n",
      "    loanamt = loanamt.iloc[test]\n",
      "    fico = fico.iloc[test]\n",
      "\n",
      "    x1 = np.matrix(fico).transpose()\n",
      "    x2 = np.matrix(loanamt).transpose()\n",
      "    \n",
      "    test_X = np.column_stack([x1,x2])\n",
      "    test_y = np.matrix(intrate).transpose()    \n",
      "    \n",
      "    X = sm.add_constant(train_X)\n",
      "    model = sm.OLS(train_y,X)\n",
      "    f = model.fit()   \n",
      "    #f.summary()\n",
      "#     y_predicted = f.predict(test_X)\n",
      "\n",
      "    \n",
      "    \n",
      "#     train_df = pd.DataFrame({'X': train_X, 'y': train_y})\n",
      "#     test_df = pd.DataFrame({'X': test_X, 'y': test_y})    \n",
      "    \n",
      "#     # # Linear Fit\n",
      "#     poly_linear = smf.ols(formula='y ~ 1 + X', data=train_df).fit()\n",
      "#     y_actual = test_df['y']\n",
      "#     y_predicted = poly_linear.predict({'X': test_df['X']}) # Pass DF that matches the formula (Kyle's code)\n",
      "#     rms = mean_squared_error(y_actual, y_predicted)\n",
      "#     mas = mean_absolute_error(y_actual, y_predicted)\n",
      "#     r2 = r2_score(y_actual, y_predicted)\n",
      "#     print rms, mas, r2\n",
      "    \n",
      "    break\n",
      "\n",
      "# rms = mean_squared_error(y_actual, y_predicted)\n",
      "# mas = mean_absolute_error(y_actual, y_predicted)\n",
      "# r2 = r2_score(y_actual, y_predicted)\n",
      "\n",
      "# Mean Squared Error\n",
      "# Mean absolute error"
     ],
     "language": "python",
     "metadata": {},
     "outputs": [
      {
       "output_type": "stream",
       "stream": "stdout",
       "text": [
        "250\n",
        "2250\n"
       ]
      }
     ],
     "prompt_number": 106
    },
    {
     "cell_type": "code",
     "collapsed": false,
     "input": [],
     "language": "python",
     "metadata": {},
     "outputs": []
    }
   ],
   "metadata": {}
  }
 ]
}