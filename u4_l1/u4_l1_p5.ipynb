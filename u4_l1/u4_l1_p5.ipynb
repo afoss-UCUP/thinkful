{
 "metadata": {
  "name": "",
  "signature": "sha256:9c76e36a6afc890221c82a0e37dc4861296e72b0e0bfb30e064474f00f913601"
 },
 "nbformat": 3,
 "nbformat_minor": 0,
 "worksheets": [
  {
   "cells": [
    {
     "cell_type": "markdown",
     "metadata": {},
     "source": [
      "Take the loan data and process it as you did previously to build your linear regression model.\n",
      "\n",
      "Break the data-set into 10 segments following the example provided here in KFold .\n",
      "\n",
      "Compute each of the performance metric (MAE, MSE or R2) for all the folds. \n",
      "The average would be the performance of your model.\n",
      "\n",
      "Comment on each of the performance metric you obtained."
     ]
    },
    {
     "cell_type": "code",
     "collapsed": false,
     "input": [
      "import matplotlib.pyplot as plt\n",
      "import numpy as np\n",
      "import pandas as pd\n",
      "import statsmodels.api as sm\n",
      "import statsmodels.formula.api as smf\n",
      "from sklearn.cross_validation import KFold\n",
      "from sklearn.metrics import mean_squared_error, mean_absolute_error, r2_score"
     ],
     "language": "python",
     "metadata": {},
     "outputs": [],
     "prompt_number": 83
    },
    {
     "cell_type": "code",
     "collapsed": false,
     "input": [
      "loansData = pd.read_csv('https://spark-public.s3.amazonaws.com/dataanalysis/loansData.csv')\n",
      "\n",
      "loansData['FICO.Score'] = loansData['FICO.Range'].map(lambda x: int(x.split('-')[0]))\n",
      "\n",
      "intrate = [float(ir.strip('%')) for ir in loansData['Interest.Rate']] # list\n",
      "loanamt = loansData['Amount.Requested'] # Series\n",
      "fico = loansData['FICO.Score'] # Series\n",
      "\n",
      "k = 10\n",
      "n = len(loansData['Interest.Rate'])\n",
      "kf = KFold(n, n_folds=k) \n",
      "\n",
      "\n",
      "for train, test in kf:\n",
      "    intrate = pd.Series(intrate).iloc[train]\n",
      "    loanamt = loanamt.iloc[train]\n",
      "    fico = fico.iloc[train]\n",
      "\n",
      "    x1 = np.matrix(fico).transpose()     # fico is a series; transpose converts vertically\n",
      "    x2 = np.matrix(loanamt).transpose()\n",
      "    \n",
      "    train_X = np.column_stack([x1,x2])\n",
      "    train_y = np.matrix(intrate).transpose()\n",
      "    \n",
      "    X = sm.add_constant(train_X)\n",
      "    \n",
      "    model = sm.OLS(train_y,X)\n",
      "    f = model.fit()   \n",
      "    #f.summary()    \n",
      "\n",
      "    intrate = pd.Series(intrate).iloc[test]\n",
      "    loanamt = loanamt.iloc[test]\n",
      "    fico = fico.iloc[test] \n",
      "\n",
      "    test_X = np.column_stack([x1,x2])\n",
      "    test_y = np.matrix(intrate).transpose() \n",
      "    \n",
      "    y_predicted = f.predict(test_X)\n",
      "        \n",
      "\n",
      "#     x1 = np.matrix(fico).transpose()\n",
      "#     x2 = np.matrix(loanamt).transpose()\n",
      "    \n",
      "   \n",
      "    \n",
      "    \n",
      "    \n",
      "\n",
      "\n",
      "    \n",
      "    \n",
      "#     train_df = pd.DataFrame({'X': train_X, 'y': train_y})\n",
      "#     test_df = pd.DataFrame({'X': test_X, 'y': test_y})    \n",
      "    \n",
      "#     # # Linear Fit\n",
      "#     poly_linear = smf.ols(formula='y ~ 1 + X', data=train_df).fit()\n",
      "#     y_actual = test_df['y']\n",
      "#     y_predicted = poly_linear.predict({'X': test_df['X']}) # Pass DF that matches the formula (Kyle's code)\n",
      "#     rms = mean_squared_error(y_actual, y_predicted)\n",
      "#     mas = mean_absolute_error(y_actual, y_predicted)\n",
      "#     r2 = r2_score(y_actual, y_predicted)\n",
      "#     print rms, mas, r2\n",
      "    \n",
      "    break\n",
      "\n",
      "# rms = mean_squared_error(y_actual, y_predicted)\n",
      "# mas = mean_absolute_error(y_actual, y_predicted)\n",
      "# r2 = r2_score(y_actual, y_predicted)\n",
      "\n",
      "# Mean Squared Error\n",
      "# Mean absolute error"
     ],
     "language": "python",
     "metadata": {},
     "outputs": [
      {
       "ename": "ValueError",
       "evalue": "shapes (2250,2) and (3,) not aligned: 2 (dim 1) != 3 (dim 0)",
       "output_type": "pyerr",
       "traceback": [
        "\u001b[1;31m---------------------------------------------------------------------------\u001b[0m\n\u001b[1;31mValueError\u001b[0m                                Traceback (most recent call last)",
        "\u001b[1;32m<ipython-input-108-54cf6a73e20e>\u001b[0m in \u001b[0;36m<module>\u001b[1;34m()\u001b[0m\n\u001b[0;32m     36\u001b[0m     \u001b[0mtest_y\u001b[0m \u001b[1;33m=\u001b[0m \u001b[0mnp\u001b[0m\u001b[1;33m.\u001b[0m\u001b[0mmatrix\u001b[0m\u001b[1;33m(\u001b[0m\u001b[0mintrate\u001b[0m\u001b[1;33m)\u001b[0m\u001b[1;33m.\u001b[0m\u001b[0mtranspose\u001b[0m\u001b[1;33m(\u001b[0m\u001b[1;33m)\u001b[0m\u001b[1;33m\u001b[0m\u001b[0m\n\u001b[0;32m     37\u001b[0m \u001b[1;33m\u001b[0m\u001b[0m\n\u001b[1;32m---> 38\u001b[1;33m     \u001b[0my_predicted\u001b[0m \u001b[1;33m=\u001b[0m \u001b[0mf\u001b[0m\u001b[1;33m.\u001b[0m\u001b[0mpredict\u001b[0m\u001b[1;33m(\u001b[0m\u001b[0mtest_X\u001b[0m\u001b[1;33m)\u001b[0m\u001b[1;33m\u001b[0m\u001b[0m\n\u001b[0m\u001b[0;32m     39\u001b[0m \u001b[1;33m\u001b[0m\u001b[0m\n\u001b[0;32m     40\u001b[0m \u001b[1;33m\u001b[0m\u001b[0m\n",
        "\u001b[1;32m/usr/lib64/python2.7/site-packages/statsmodels/base/model.pyc\u001b[0m in \u001b[0;36mpredict\u001b[1;34m(self, exog, transform, *args, **kwargs)\u001b[0m\n\u001b[0;32m    747\u001b[0m             \u001b[0mexog\u001b[0m \u001b[1;33m=\u001b[0m \u001b[0mnp\u001b[0m\u001b[1;33m.\u001b[0m\u001b[0matleast_2d\u001b[0m\u001b[1;33m(\u001b[0m\u001b[0mexog\u001b[0m\u001b[1;33m)\u001b[0m  \u001b[1;31m# needed in count model shape[1]\u001b[0m\u001b[1;33m\u001b[0m\u001b[0m\n\u001b[0;32m    748\u001b[0m \u001b[1;33m\u001b[0m\u001b[0m\n\u001b[1;32m--> 749\u001b[1;33m         \u001b[1;32mreturn\u001b[0m \u001b[0mself\u001b[0m\u001b[1;33m.\u001b[0m\u001b[0mmodel\u001b[0m\u001b[1;33m.\u001b[0m\u001b[0mpredict\u001b[0m\u001b[1;33m(\u001b[0m\u001b[0mself\u001b[0m\u001b[1;33m.\u001b[0m\u001b[0mparams\u001b[0m\u001b[1;33m,\u001b[0m \u001b[0mexog\u001b[0m\u001b[1;33m,\u001b[0m \u001b[1;33m*\u001b[0m\u001b[0margs\u001b[0m\u001b[1;33m,\u001b[0m \u001b[1;33m**\u001b[0m\u001b[0mkwargs\u001b[0m\u001b[1;33m)\u001b[0m\u001b[1;33m\u001b[0m\u001b[0m\n\u001b[0m\u001b[0;32m    750\u001b[0m \u001b[1;33m\u001b[0m\u001b[0m\n\u001b[0;32m    751\u001b[0m \u001b[1;33m\u001b[0m\u001b[0m\n",
        "\u001b[1;32m/usr/lib64/python2.7/site-packages/statsmodels/regression/linear_model.pyc\u001b[0m in \u001b[0;36mpredict\u001b[1;34m(self, params, exog)\u001b[0m\n\u001b[0;32m    357\u001b[0m         \u001b[1;32mif\u001b[0m \u001b[0mexog\u001b[0m \u001b[1;32mis\u001b[0m \u001b[0mNone\u001b[0m\u001b[1;33m:\u001b[0m\u001b[1;33m\u001b[0m\u001b[0m\n\u001b[0;32m    358\u001b[0m             \u001b[0mexog\u001b[0m \u001b[1;33m=\u001b[0m \u001b[0mself\u001b[0m\u001b[1;33m.\u001b[0m\u001b[0mexog\u001b[0m\u001b[1;33m\u001b[0m\u001b[0m\n\u001b[1;32m--> 359\u001b[1;33m         \u001b[1;32mreturn\u001b[0m \u001b[0mnp\u001b[0m\u001b[1;33m.\u001b[0m\u001b[0mdot\u001b[0m\u001b[1;33m(\u001b[0m\u001b[0mexog\u001b[0m\u001b[1;33m,\u001b[0m \u001b[0mparams\u001b[0m\u001b[1;33m)\u001b[0m\u001b[1;33m\u001b[0m\u001b[0m\n\u001b[0m\u001b[0;32m    360\u001b[0m \u001b[1;33m\u001b[0m\u001b[0m\n\u001b[0;32m    361\u001b[0m \u001b[1;32mclass\u001b[0m \u001b[0mGLS\u001b[0m\u001b[1;33m(\u001b[0m\u001b[0mRegressionModel\u001b[0m\u001b[1;33m)\u001b[0m\u001b[1;33m:\u001b[0m\u001b[1;33m\u001b[0m\u001b[0m\n",
        "\u001b[1;31mValueError\u001b[0m: shapes (2250,2) and (3,) not aligned: 2 (dim 1) != 3 (dim 0)"
       ]
      }
     ],
     "prompt_number": 108
    },
    {
     "cell_type": "code",
     "collapsed": false,
     "input": [],
     "language": "python",
     "metadata": {},
     "outputs": []
    }
   ],
   "metadata": {}
  }
 ]
}