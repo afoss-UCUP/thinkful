{
 "metadata": {
  "name": "",
  "signature": "sha256:3bedd973806a8f59b8c069921f699a441b2959ea17c68825aca989f2b0bb4e4f"
 },
 "nbformat": 3,
 "nbformat_minor": 0,
 "worksheets": [
  {
   "cells": [
    {
     "cell_type": "code",
     "collapsed": false,
     "input": [
      "from sklearn.datasets import load_iris\n",
      "from sklearn.ensemble import RandomForestClassifier\n",
      "import pandas as pd\n",
      "import numpy as np\n",
      "from collections import Counter # my addition\n",
      "\n",
      "iris = load_iris()\n",
      "print iris.feature_names"
     ],
     "language": "python",
     "metadata": {},
     "outputs": [
      {
       "output_type": "stream",
       "stream": "stdout",
       "text": [
        "['sepal length (cm)', 'sepal width (cm)', 'petal length (cm)', 'petal width (cm)']\n"
       ]
      }
     ],
     "prompt_number": 6
    },
    {
     "cell_type": "code",
     "collapsed": false,
     "input": [
      "df = pd.DataFrame(iris.data, columns=iris.feature_names)"
     ],
     "language": "python",
     "metadata": {},
     "outputs": [],
     "prompt_number": 8
    },
    {
     "cell_type": "code",
     "collapsed": false,
     "input": [
      "print np.random.uniform(0, 1, len(df))"
     ],
     "language": "python",
     "metadata": {},
     "outputs": [
      {
       "output_type": "stream",
       "stream": "stdout",
       "text": [
        "[ 0.6620204   0.53211728  0.83135582  0.09750611  0.20677397  0.95599378\n",
        "  0.04800153  0.78631727  0.7485375   0.17036743  0.70655156  0.74461939\n",
        "  0.32153427  0.52323464  0.19021581  0.03695545  0.475766    0.48822431\n",
        "  0.45609569  0.01701164  0.33386909  0.27911485  0.43863062  0.99165673\n",
        "  0.37598041  0.40289843  0.99686361  0.38028307  0.82748912  0.97156987\n",
        "  0.92723831  0.26919954  0.65359685  0.95232113  0.33310324  0.87432512\n",
        "  0.13936815  0.43205487  0.58803749  0.50542882  0.4400783   0.6488167\n",
        "  0.98715037  0.06547741  0.45185594  0.51445199  0.47973335  0.42373693\n",
        "  0.74310778  0.80076575  0.87096454  0.46422394  0.017696    0.31446028\n",
        "  0.50409913  0.44545456  0.19534517  0.50282897  0.04892491  0.49864241\n",
        "  0.65490992  0.40641475  0.03569859  0.35400575  0.44406335  0.58492576\n",
        "  0.5807556   0.29242951  0.45643752  0.56159651  0.46661398  0.19300777\n",
        "  0.09421983  0.83792793  0.20441685  0.59625039  0.13213903  0.6703227\n",
        "  0.23311499  0.00166278  0.79344617  0.53607296  0.87785245  0.78610816\n",
        "  0.60623205  0.12623698  0.6459279   0.46052187  0.18487094  0.50687961\n",
        "  0.76240633  0.73857391  0.86089472  0.31926509  0.8848956   0.27602451\n",
        "  0.84852023  0.69413861  0.12359241  0.00891875  0.70259256  0.87847261\n",
        "  0.85749138  0.31658893  0.82924166  0.1266341   0.67980525  0.13147938\n",
        "  0.30702178  0.49352104  0.52522037  0.86528062  0.52061386  0.02260937\n",
        "  0.01563791  0.70413974  0.69528939  0.65040685  0.05506835  0.66378393\n",
        "  0.40538826  0.70081987  0.28388791  0.37937962  0.93292059  0.97003602\n",
        "  0.42041968  0.2550637   0.62607105  0.74294359  0.38149393  0.91741728\n",
        "  0.19760037  0.45420142  0.21426545  0.7079619   0.03187935  0.27684752\n",
        "  0.59521277  0.86998901  0.34963178  0.28441081  0.94687211  0.77080383\n",
        "  0.26584046  0.06873032  0.59721591  0.55646273  0.08703331  0.25827769]\n"
       ]
      }
     ],
     "prompt_number": 9
    },
    {
     "cell_type": "code",
     "collapsed": false,
     "input": [
      "df['is_train'] = np.random.uniform(0, 1, len(df)) <= .75 # This syntax is odd: how does it work? Why does Python accept it?"
     ],
     "language": "python",
     "metadata": {},
     "outputs": [],
     "prompt_number": 10
    },
    {
     "cell_type": "code",
     "collapsed": false,
     "input": [
      "print Counter(list(df['is_train']))"
     ],
     "language": "python",
     "metadata": {},
     "outputs": [
      {
       "output_type": "stream",
       "stream": "stdout",
       "text": [
        "Counter({True: 112, False: 38})\n"
       ]
      }
     ],
     "prompt_number": 11
    },
    {
     "cell_type": "code",
     "collapsed": false,
     "input": [
      "print iris.target\n",
      "print len(iris.target)"
     ],
     "language": "python",
     "metadata": {},
     "outputs": [
      {
       "output_type": "stream",
       "stream": "stdout",
       "text": [
        "[0 0 0 0 0 0 0 0 0 0 0 0 0 0 0 0 0 0 0 0 0 0 0 0 0 0 0 0 0 0 0 0 0 0 0 0 0\n",
        " 0 0 0 0 0 0 0 0 0 0 0 0 0 1 1 1 1 1 1 1 1 1 1 1 1 1 1 1 1 1 1 1 1 1 1 1 1\n",
        " 1 1 1 1 1 1 1 1 1 1 1 1 1 1 1 1 1 1 1 1 1 1 1 1 1 1 2 2 2 2 2 2 2 2 2 2 2\n",
        " 2 2 2 2 2 2 2 2 2 2 2 2 2 2 2 2 2 2 2 2 2 2 2 2 2 2 2 2 2 2 2 2 2 2 2 2 2\n",
        " 2 2]\n",
        "150\n"
       ]
      }
     ],
     "prompt_number": 13
    },
    {
     "cell_type": "code",
     "collapsed": false,
     "input": [
      "print iris.target_names"
     ],
     "language": "python",
     "metadata": {},
     "outputs": [
      {
       "output_type": "stream",
       "stream": "stdout",
       "text": [
        "['setosa' 'versicolor' 'virginica']\n"
       ]
      }
     ],
     "prompt_number": 14
    },
    {
     "cell_type": "code",
     "collapsed": false,
     "input": [
      "df['species'] = pd.Categorical.from_codes(iris.target, iris.target_names)"
     ],
     "language": "python",
     "metadata": {},
     "outputs": [],
     "prompt_number": 17
    },
    {
     "cell_type": "code",
     "collapsed": false,
     "input": [
      "print df['species']"
     ],
     "language": "python",
     "metadata": {},
     "outputs": [
      {
       "output_type": "stream",
       "stream": "stdout",
       "text": [
        "0         setosa\n",
        "1         setosa\n",
        "2         setosa\n",
        "3         setosa\n",
        "4         setosa\n",
        "5         setosa\n",
        "6         setosa\n",
        "7         setosa\n",
        "8         setosa\n",
        "9         setosa\n",
        "10        setosa\n",
        "11        setosa\n",
        "12        setosa\n",
        "13        setosa\n",
        "14        setosa\n",
        "15        setosa\n",
        "16        setosa\n",
        "17        setosa\n",
        "18        setosa\n",
        "19        setosa\n",
        "20        setosa\n",
        "21        setosa\n",
        "22        setosa\n",
        "23        setosa\n",
        "24        setosa\n",
        "25        setosa\n",
        "26        setosa\n",
        "27        setosa\n",
        "28        setosa\n",
        "29        setosa\n",
        "         ...    \n",
        "120    virginica\n",
        "121    virginica\n",
        "122    virginica\n",
        "123    virginica\n",
        "124    virginica\n",
        "125    virginica\n",
        "126    virginica\n",
        "127    virginica\n",
        "128    virginica\n",
        "129    virginica\n",
        "130    virginica\n",
        "131    virginica\n",
        "132    virginica\n",
        "133    virginica\n",
        "134    virginica\n",
        "135    virginica\n",
        "136    virginica\n",
        "137    virginica\n",
        "138    virginica\n",
        "139    virginica\n",
        "140    virginica\n",
        "141    virginica\n",
        "142    virginica\n",
        "143    virginica\n",
        "144    virginica\n",
        "145    virginica\n",
        "146    virginica\n",
        "147    virginica\n",
        "148    virginica\n",
        "149    virginica\n",
        "Name: species, dtype: category\n",
        "Categories (3, object): [setosa, versicolor, virginica]\n"
       ]
      }
     ],
     "prompt_number": 18
    },
    {
     "cell_type": "code",
     "collapsed": false,
     "input": [
      "df.head()\n",
      "\n",
      "print df.head()"
     ],
     "language": "python",
     "metadata": {},
     "outputs": [
      {
       "output_type": "stream",
       "stream": "stdout",
       "text": [
        "   sepal length (cm)  sepal width (cm)  petal length (cm)  petal width (cm)  \\\n",
        "0                5.1               3.5                1.4               0.2   \n",
        "1                4.9               3.0                1.4               0.2   \n",
        "2                4.7               3.2                1.3               0.2   \n",
        "3                4.6               3.1                1.5               0.2   \n",
        "4                5.0               3.6                1.4               0.2   \n",
        "\n",
        "  is_train species  \n",
        "0     True  setosa  \n",
        "1     True  setosa  \n",
        "2    False  setosa  \n",
        "3     True  setosa  \n",
        "4     True  setosa  \n"
       ]
      }
     ],
     "prompt_number": 19
    },
    {
     "cell_type": "code",
     "collapsed": false,
     "input": [
      "train, test = df[df['is_train']==True], df[df['is_train']==False]\n",
      "\n",
      "print len(train), len(test)"
     ],
     "language": "python",
     "metadata": {},
     "outputs": [
      {
       "output_type": "stream",
       "stream": "stdout",
       "text": [
        "112 38\n"
       ]
      }
     ],
     "prompt_number": 21
    },
    {
     "cell_type": "code",
     "collapsed": false,
     "input": [
      "features = df.columns[:4]\n",
      "print features"
     ],
     "language": "python",
     "metadata": {},
     "outputs": [
      {
       "output_type": "stream",
       "stream": "stdout",
       "text": [
        "Index([u'sepal length (cm)', u'sepal width (cm)', u'petal length (cm)',\n",
        "       u'petal width (cm)'],\n",
        "      dtype='object')\n"
       ]
      }
     ],
     "prompt_number": 22
    },
    {
     "cell_type": "code",
     "collapsed": false,
     "input": [
      "clf = RandomForestClassifier(n_jobs=2)\n",
      "print clf\n",
      "print type(clf)"
     ],
     "language": "python",
     "metadata": {},
     "outputs": [
      {
       "output_type": "stream",
       "stream": "stdout",
       "text": [
        "RandomForestClassifier(bootstrap=True, class_weight=None, criterion='gini',\n",
        "            max_depth=None, max_features='auto', max_leaf_nodes=None,\n",
        "            min_samples_leaf=1, min_samples_split=2,\n",
        "            min_weight_fraction_leaf=0.0, n_estimators=10, n_jobs=2,\n",
        "            oob_score=False, random_state=None, verbose=0,\n",
        "            warm_start=False)\n",
        "<class 'sklearn.ensemble.forest.RandomForestClassifier'>\n"
       ]
      }
     ],
     "prompt_number": 26
    },
    {
     "cell_type": "code",
     "collapsed": false,
     "input": [
      "y, _ = pd.factorize(train['species']) # Encode input values as an enumerated type or categorical variable\n",
      "print y\n",
      "print _"
     ],
     "language": "python",
     "metadata": {},
     "outputs": [
      {
       "output_type": "stream",
       "stream": "stdout",
       "text": [
        "[0 0 0 0 0 0 0 0 0 0 0 0 0 0 0 0 0 0 0 0 0 0 0 0 0 0 0 0 0 0 0 0 0 0 0 1 1\n",
        " 1 1 1 1 1 1 1 1 1 1 1 1 1 1 1 1 1 1 1 1 1 1 1 1 1 1 1 1 2 2 2 2 2 2 2 2 2\n",
        " 2 2 2 2 2 2 2 2 2 2 2 2 2 2 2 2 2 2 2 2 2 2 2 2 2 2 2 2 2 2 2 2 2 2 2 2 2\n",
        " 2]\n",
        "Index([u'setosa', u'versicolor', u'virginica'], dtype='object')\n"
       ]
      }
     ],
     "prompt_number": 25
    },
    {
     "cell_type": "code",
     "collapsed": false,
     "input": [
      "clf.fit(train[features], y)\n",
      "\n",
      "preds = iris.target_names[clf.predict(test[features])]\n",
      "\n",
      "print preds"
     ],
     "language": "python",
     "metadata": {},
     "outputs": [
      {
       "output_type": "stream",
       "stream": "stdout",
       "text": [
        "['setosa' 'setosa' 'setosa' 'setosa' 'setosa' 'setosa' 'setosa' 'setosa'\n",
        " 'setosa' 'setosa' 'setosa' 'setosa' 'setosa' 'setosa' 'setosa'\n",
        " 'versicolor' 'versicolor' 'versicolor' 'versicolor' 'versicolor'\n",
        " 'versicolor' 'virginica' 'versicolor' 'versicolor' 'virginica'\n",
        " 'versicolor' 'versicolor' 'versicolor' 'versicolor' 'versicolor'\n",
        " 'versicolor' 'versicolor' 'versicolor' 'versicolor' 'versicolor'\n",
        " 'virginica' 'virginica' 'virginica']\n"
       ]
      }
     ],
     "prompt_number": 27
    },
    {
     "cell_type": "code",
     "collapsed": false,
     "input": [
      "# Compute a simple cross-tabulation of two (or more) factors. \n",
      "# By default computes a frequency table of the factors unless an array of values and an aggregation function are passed\n",
      "print pd.crosstab(test['species'], preds, rownames=['actual'], colnames=['preds'])"
     ],
     "language": "python",
     "metadata": {},
     "outputs": [
      {
       "output_type": "stream",
       "stream": "stdout",
       "text": [
        "preds       setosa  versicolor  virginica\n",
        "actual                                   \n",
        "setosa          15           0          0\n",
        "versicolor       0          18          2\n",
        "virginica        0           0          3\n"
       ]
      }
     ],
     "prompt_number": 28
    },
    {
     "cell_type": "code",
     "collapsed": false,
     "input": [],
     "language": "python",
     "metadata": {},
     "outputs": []
    }
   ],
   "metadata": {}
  }
 ]
}