{
 "metadata": {
  "name": "",
  "signature": "sha256:02d330ac6a804671b5068a75ceb49ce7894ad80727c21563f6d342c80f9141df"
 },
 "nbformat": 3,
 "nbformat_minor": 0,
 "worksheets": [
  {
   "cells": [
    {
     "cell_type": "code",
     "collapsed": false,
     "input": [
      "from pandas import DataFrame\n",
      "import os\n",
      "import pandas as pd\n",
      "\n",
      "# FILE_DIR = os.path.dirname(os.path.realpath(__file__))\n",
      "FILE_DIR = '/home/MZ/Documents/CODE/THINKFUL/projects/kaggle'"
     ],
     "language": "python",
     "metadata": {},
     "outputs": [],
     "prompt_number": 2
    },
    {
     "cell_type": "markdown",
     "metadata": {},
     "source": [
      "# DATA FILES & FIELDS\n",
      "\n",
      "## attributes.csv\n",
      "* product_uid\n",
      "* name\n",
      "* value\n",
      "\n",
      "## product_descriptions.csv\n",
      "* product_uid\n",
      "* product_description\n",
      "\n",
      "## train.csv\n",
      "* id\n",
      "* product_uid\n",
      "* product_title\n",
      "* search_term\n",
      "* relevance\n",
      "\n",
      "## test.csv\n",
      "* id\n",
      "* product_uid\n",
      "* product_title\n",
      "* search_term\n",
      "\n",
      "## sample_submission.csv\n",
      "* id\n",
      "* relevance"
     ]
    },
    {
     "cell_type": "markdown",
     "metadata": {},
     "source": [
      "# DATA FIELDS & FILES\n",
      "\n",
      "\n",
      "## id - a unique Id field which represents a (search_term, product_uid) pair\n",
      "* test.csv\n",
      "* train.csv\n",
      "* sample_submission.csv\n",
      "\n",
      "## product_uid - an id for the products\n",
      "* attributes.csv\n",
      "* product_descriptions.csv\n",
      "* test.csv\n",
      "* train.csv\n",
      "\n",
      "## product_title - the product title\n",
      "* test.csv\n",
      "* train.csv\n",
      "    \n",
      "## product_description - the text description of the product (may contain HTML content)\n",
      "* product_descriptions.csv\n",
      "    \n",
      "## search_term - the search query\n",
      "* test.csv\n",
      "* train.csv\n",
      "\n",
      "## relevance - the average of the relevance ratings for a given id\n",
      "* sample_submission.csv\n",
      "* train.csv\n",
      "\n",
      "## name - an attribute name\n",
      "* attributes.csv\n",
      "\n",
      "## value - the attribute's value\n",
      "* attributes.csv"
     ]
    },
    {
     "cell_type": "code",
     "collapsed": false,
     "input": [
      "sub = 50 # subset"
     ],
     "language": "python",
     "metadata": {},
     "outputs": [],
     "prompt_number": 5
    },
    {
     "cell_type": "code",
     "collapsed": false,
     "input": [
      "# relevance_instructions.docx"
     ],
     "language": "python",
     "metadata": {},
     "outputs": [],
     "prompt_number": 6
    },
    {
     "cell_type": "code",
     "collapsed": false,
     "input": [
      "# ATTRIBUTES\n",
      "# \"product_uid\"\t\"name\"\t\"value\"\n",
      "# 100001\t\"Bullet01\"\t\"Versatile connector for various 90\u00b0 connections and home repair projects\"\n",
      "\n",
      "with open(FILE_DIR + '/attributes.csv', 'r') as f:\n",
      "    attributes = pd.read_csv(f)\n",
      "    attributes_sub = attributes[:sub]\n",
      "\n",
      "# print list(attributes.columns.values)"
     ],
     "language": "python",
     "metadata": {},
     "outputs": [],
     "prompt_number": 7
    },
    {
     "cell_type": "code",
     "collapsed": false,
     "input": [
      "# PRODUCT DESCRIPTIONS\n",
      "# 'product_uid' 'product_description'\n",
      "# 100001\t\"Not only do angles make joints stronger  they also provide more consistent\t straight corners. Simpson Strong-Tie offers a wide variety of angles in various sizes and thicknesses to handle light-duty jobs or projects where a structural connection is needed. Some can be bent (skewed) to match the project. For outdoor projects or those where moisture is present\t use our ZMAX zinc-coated connectors\t which provide extra resistance against corrosion (look for a \"\"Z\"\" at the end of the model number).Versatile connector for various 90 connections and home repair projectsStronger than angled nailing or screw fastening aloneHelp ensure joints are consistently straight and strongDimensions: 3 in. x 3 in. x 1-1/2 in.Made from 12-Gauge steelGalvanized for extra corrosion resistanceInstall with 10d common nails or #9 x 1-1/2 in. Strong-Drive SD screws\"\n",
      "\n",
      "# [124428 rows x 2 columns]\n",
      "with open(FILE_DIR + '/product_descriptions.csv', 'r') as f:\n",
      "    product_descriptions = pd.read_csv(f)\n",
      "    product_descriptions = product_descriptions[['product_uid', 'product_description']] # Drop NaN\n",
      "    product_descriptions_sub = product_descriptions[:sub]"
     ],
     "language": "python",
     "metadata": {},
     "outputs": [],
     "prompt_number": 8
    },
    {
     "cell_type": "code",
     "collapsed": false,
     "input": [
      "# TRAIN\n",
      "# \"id\"\t\"product_uid\"\t\"product_title\"\t\"search_term\"\t\"relevance\"\n",
      "# 2\t100001\t\"Simpson Strong-Tie 12-Gauge Angle\"\t\"angle bracket\"\t3\n",
      "# 3\t100001\t\"Simpson Strong-Tie 12-Gauge Angle\"\t\"l bracket\"\t2.5\n",
      "\n",
      "# [74067 rows x 5 columns]\n",
      "with open(FILE_DIR + '/train.csv', 'r') as f:\n",
      "    train = pd.read_csv(f)\n",
      "    train = train[[0, 1, 2, 3, 4]]\n",
      "    train_sub = train[:sub]"
     ],
     "language": "python",
     "metadata": {},
     "outputs": [],
     "prompt_number": 9
    },
    {
     "cell_type": "code",
     "collapsed": false,
     "input": [
      "# TEST\n",
      "# \"id\"\t\"product_uid\"\t\"product_title\"\t\"search_term\"\n",
      "# 1\t100001\t\"Simpson Strong-Tie 12-Gauge Angle\"\t\"90 degree bracket\"\n",
      "# 4\t100001\t\"Simpson Strong-Tie 12-Gauge Angle\"\t\"metal l brackets\"\n",
      "# 5\t100001\t\"Simpson Strong-Tie 12-Gauge Angle\"\t\"simpson sku able\"\n",
      "# 6\t100001\t\"Simpson Strong-Tie 12-Gauge Angle\"\t\"simpson strong  ties\"\n",
      "# 7\t100001\t\"Simpson Strong-Tie 12-Gauge Angle\"\t\"simpson strong tie hcc668\"\n",
      "# 8\t100001\t\"Simpson Strong-Tie 12-Gauge Angle\"\t\"wood connectors\"\n",
      "\n",
      "# [166693 rows x 4 columns]\n",
      "with open(FILE_DIR + '/test.csv', 'r') as f:\n",
      "    test = pd.read_csv(f)\n",
      "    test_sub = test[:sub]"
     ],
     "language": "python",
     "metadata": {},
     "outputs": [],
     "prompt_number": 10
    },
    {
     "cell_type": "code",
     "collapsed": false,
     "input": [
      "# SAMPLE SUBMISSION\n",
      "# 'id' 'relevance'\n",
      "# 1\t1\n",
      "# 4\t1\n",
      "# 5\t1\n",
      "# 6\t1\n",
      "# 7\t1\n",
      "# 8\t1\n",
      "\n",
      "# [166693 rows x 2 columns]\n",
      "with open(FILE_DIR + '/sample_submission.csv', 'r') as f:\n",
      "    sample = pd.read_csv(f)\n",
      "    sample_sub = sample[:sub]\n",
      "\n",
      "# print pd.concat([attributes, product_descriptions, train], axis=1)"
     ],
     "language": "python",
     "metadata": {},
     "outputs": [],
     "prompt_number": 11
    },
    {
     "cell_type": "code",
     "collapsed": false,
     "input": [
      "# print attributes_sub, product_descriptions_sub, train_sub, test_sub, sample_sub\n",
      "\n",
      "# print attributes_sub[:5]\n",
      "print train_sub['product_title'][:5]"
     ],
     "language": "python",
     "metadata": {},
     "outputs": [
      {
       "output_type": "stream",
       "stream": "stdout",
       "text": [
        "0                    Simpson Strong-Tie 12-Gauge Angle\n",
        "1                    Simpson Strong-Tie 12-Gauge Angle\n",
        "2    BEHR Premium Textured DeckOver 1-gal. #SC-141 ...\n",
        "3    Delta Vero 1-Handle Shower Only Faucet Trim Ki...\n",
        "4    Delta Vero 1-Handle Shower Only Faucet Trim Ki...\n",
        "Name: product_title, dtype: object\n"
       ]
      }
     ],
     "prompt_number": 12
    },
    {
     "cell_type": "code",
     "collapsed": false,
     "input": [],
     "language": "python",
     "metadata": {},
     "outputs": []
    }
   ],
   "metadata": {}
  }
 ]
}