{
 "metadata": {
  "name": "",
  "signature": "sha256:7c37271536b845469d5d15fca9f0c615929ecbd22f335bea5b7ae59e138771b7"
 },
 "nbformat": 3,
 "nbformat_minor": 0,
 "worksheets": [
  {
   "cells": [
    {
     "cell_type": "code",
     "collapsed": false,
     "input": [
      "from sklearn.datasets import load_iris\n",
      "from sklearn.ensemble import RandomForestClassifier\n",
      "import pandas as pd\n",
      "import numpy as np\n",
      "\n",
      "#iris = load_iris()\n",
      "df = pd.read_csv('/home/MZ/Documents/CODE/THINKFUL/projects/kaggle/train.csv', header=0)\n",
      "\n",
      "df.dropna(inplace=True, how='any')\n",
      "\n",
      "\n",
      "#df = pd.DataFrame(iris.data, columns=iris.feature_names)\n",
      "# header = train_csv[0]                                                   \n",
      "# rows = train_csv[1:]                                                        \n",
      "# df = pd.DataFrame(rows, columns=header)\n",
      "\n",
      "# Divide the dataset into test, train\n",
      "df['is_train'] = np.random.uniform(0, 1, len(df)) <= .75\n",
      "# df['species'] = pd.Categorical.from_codes(iris.target, iris.target_names)\n",
      "df['relevance_rounded'] = df['relevance'].map(lambda x: round(x))\n",
      "\n",
      "# 1 if x < 1.5 else 2\n",
      "\n",
      "df['exact'] = pd.Series([True if st.lower() in pt.lower() else False \n",
      "                      for st, pt in zip(df['search_term'], df['product_title'])])\n",
      "\n",
      "train, test = df[df['is_train']==True], df[df['is_train']==False]\n",
      "\n",
      "# features = df.columns[:4]\n",
      "features = df.columns[[7]] # Whether it's an exact match or not\n",
      "\n",
      "clf = RandomForestClassifier(n_jobs=2)\n",
      "# y, _ = pd.factorize(train['species']) # Iris\n",
      "y, _ = pd.factorize(train['relevance_rounded']) # 0, 1, 2\n",
      "\n",
      "clf.fit(train[features], y)\n",
      "\n",
      "# preds = iris.target_names[clf.predict(test[features])]\n",
      "\n",
      "preds = clf.predict(test[features])\n",
      "\n",
      "pd.crosstab(test['relevance_rounded'], preds, rownames=['actual'], colnames=['preds'])"
     ],
     "language": "python",
     "metadata": {},
     "outputs": [
      {
       "html": [
        "<div style=\"max-width:1500px;overflow:auto;\">\n",
        "<table border=\"1\" class=\"dataframe\">\n",
        "  <thead>\n",
        "    <tr style=\"text-align: right;\">\n",
        "      <th>preds</th>\n",
        "      <th>0</th>\n",
        "      <th>1</th>\n",
        "    </tr>\n",
        "    <tr>\n",
        "      <th>actual</th>\n",
        "      <th></th>\n",
        "      <th></th>\n",
        "    </tr>\n",
        "  </thead>\n",
        "  <tbody>\n",
        "    <tr>\n",
        "      <th>1</th>\n",
        "      <td>30</td>\n",
        "      <td>1222</td>\n",
        "    </tr>\n",
        "    <tr>\n",
        "      <th>2</th>\n",
        "      <td>526</td>\n",
        "      <td>8120</td>\n",
        "    </tr>\n",
        "    <tr>\n",
        "      <th>3</th>\n",
        "      <td>1092</td>\n",
        "      <td>7390</td>\n",
        "    </tr>\n",
        "  </tbody>\n",
        "</table>\n",
        "</div>"
       ],
       "metadata": {},
       "output_type": "pyout",
       "prompt_number": 36,
       "text": [
        "preds      0     1\n",
        "actual            \n",
        "1         30  1222\n",
        "2        526  8120\n",
        "3       1092  7390"
       ]
      }
     ],
     "prompt_number": 36
    },
    {
     "cell_type": "code",
     "collapsed": false,
     "input": [],
     "language": "python",
     "metadata": {},
     "outputs": []
    }
   ],
   "metadata": {}
  }
 ]
}