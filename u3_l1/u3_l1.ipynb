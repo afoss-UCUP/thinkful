{
 "metadata": {
  "name": "",
  "signature": "sha256:4be34462bf4950a11f6ab28101ce8e0bc54010f201ec4e72f342c4e5ef35dedf"
 },
 "nbformat": 3,
 "nbformat_minor": 0,
 "worksheets": [
  {
   "cells": [
    {
     "cell_type": "markdown",
     "metadata": {},
     "source": [
      "# Unit 3 Lesson 1"
     ]
    },
    {
     "cell_type": "markdown",
     "metadata": {},
     "source": [
      "In this exercise, your goal is to record the number of bikes available every minute for an hour across all of New York City in order to see which station or set of stations is the most active in New York City for that hour. Activity is defined as the total number of bicycles taken out or returned in an hour. So if 2 bikes are brought in and 4 bikes are taken out, that station has an activity level of 6. "
     ]
    },
    {
     "cell_type": "code",
     "collapsed": false,
     "input": [
      "import requests\n",
      "\n",
      "r = requests.get('http://www.citibikenyc.com/stations/json')\n",
      "\n",
      "r.json().keys()"
     ],
     "language": "python",
     "metadata": {},
     "outputs": [
      {
       "metadata": {},
       "output_type": "pyout",
       "prompt_number": 4,
       "text": [
        "[u'executionTime', u'stationBeanList']"
       ]
      }
     ],
     "prompt_number": 4
    },
    {
     "cell_type": "code",
     "collapsed": false,
     "input": [
      "key_list = [] #unique list of keys for each station listing\n",
      "for station in r.json()['stationBeanList']:\n",
      "    for k in station.keys():\n",
      "        if k not in key_list:\n",
      "            key_list.append(k)"
     ],
     "language": "python",
     "metadata": {},
     "outputs": [],
     "prompt_number": 5
    },
    {
     "cell_type": "code",
     "collapsed": false,
     "input": [
      "print key_list"
     ],
     "language": "python",
     "metadata": {},
     "outputs": [
      {
       "output_type": "stream",
       "stream": "stdout",
       "text": [
        "[u'availableDocks', u'totalDocks', u'city', u'altitude', u'stAddress2', u'longitude', u'lastCommunicationTime', u'postalCode', u'statusValue', u'testStation', u'stAddress1', u'stationName', u'landMark', u'latitude', u'statusKey', u'availableBikes', u'id', u'location']\n"
       ]
      }
     ],
     "prompt_number": 6
    },
    {
     "cell_type": "code",
     "collapsed": false,
     "input": [
      "r.json()['stationBeanList'][0]"
     ],
     "language": "python",
     "metadata": {},
     "outputs": [
      {
       "metadata": {},
       "output_type": "pyout",
       "prompt_number": 7,
       "text": [
        "{u'altitude': u'',\n",
        " u'availableBikes': 12,\n",
        " u'availableDocks': 27,\n",
        " u'city': u'',\n",
        " u'id': 72,\n",
        " u'landMark': u'',\n",
        " u'lastCommunicationTime': u'2016-02-05 11:03:56 AM',\n",
        " u'latitude': 40.76727216,\n",
        " u'location': u'',\n",
        " u'longitude': -73.99392888,\n",
        " u'postalCode': u'',\n",
        " u'stAddress1': u'W 52 St & 11 Ave',\n",
        " u'stAddress2': u'',\n",
        " u'stationName': u'W 52 St & 11 Ave',\n",
        " u'statusKey': 1,\n",
        " u'statusValue': u'In Service',\n",
        " u'testStation': False,\n",
        " u'totalDocks': 39}"
       ]
      }
     ],
     "prompt_number": 7
    },
    {
     "cell_type": "code",
     "collapsed": false,
     "input": [
      "from pandas.io.json import json_normalize\n",
      "\n",
      "df = json_normalize(r.json()['stationBeanList'])"
     ],
     "language": "python",
     "metadata": {},
     "outputs": [],
     "prompt_number": 8
    },
    {
     "cell_type": "code",
     "collapsed": false,
     "input": [
      "%matplotlib inline\n",
      "import matplotlib.pyplot as plt\n",
      "import pandas as pd\n",
      "\n",
      "df['availableBikes'].hist()\n",
      "plt.show()"
     ],
     "language": "python",
     "metadata": {},
     "outputs": [
      {
       "metadata": {},
       "output_type": "display_data",
       "png": "[encoded data removed]",
       "text": [
        "<matplotlib.figure.Figure at 0x7ff5b0bd9a50>"
       ]
      }
     ],
     "prompt_number": 30
    },
    {
     "cell_type": "code",
     "collapsed": false,
     "input": [
      "df['totalDocks'].hist()\n",
      "plt.show()"
     ],
     "language": "python",
     "metadata": {},
     "outputs": [
      {
       "metadata": {},
       "output_type": "display_data",
       "png": "[encoded data removed]",
       "text": [
        "<matplotlib.figure.Figure at 0x7ff5b15cf0d0>"
       ]
      }
     ],
     "prompt_number": 31
    },
    {
     "cell_type": "markdown",
     "metadata": {},
     "source": [
      "## Notice how the distributions differ. Why might that be? "
     ]
    },
    {
     "cell_type": "markdown",
     "metadata": {},
     "source": [
      "'availableBikes' changes constantly, while 'availableDocks' changes only when docks are added or removed."
     ]
    },
    {
     "cell_type": "markdown",
     "metadata": {},
     "source": [
      "# Challenge"
     ]
    },
    {
     "cell_type": "markdown",
     "metadata": {},
     "source": [
      "## Take a moment to explore the other values. Understand what values are in the fields and which fields are mostly blank."
     ]
    },
    {
     "cell_type": "markdown",
     "metadata": {},
     "source": [
      "## Explore the other data variables. Are there any test stations? "
     ]
    },
    {
     "cell_type": "code",
     "collapsed": false,
     "input": [
      "condition = (df['testStation'] == True)\n",
      "test = len(df[condition]['totalDocks'])\n",
      "'There are {} test stations.'.format(test)"
     ],
     "language": "python",
     "metadata": {},
     "outputs": [
      {
       "metadata": {},
       "output_type": "pyout",
       "prompt_number": 18,
       "text": [
        "'There are 0 test stations.'"
       ]
      }
     ],
     "prompt_number": 18
    },
    {
     "cell_type": "markdown",
     "metadata": {},
     "source": [
      "## How many stations are \"In Service\"? "
     ]
    },
    {
     "cell_type": "code",
     "collapsed": false,
     "input": [
      "condition = (df['statusValue'] == 'In Service')\n",
      "in_service = len(df[condition]['totalDocks'])\n",
      "'There are {} stations in service.'.format(in_service)"
     ],
     "language": "python",
     "metadata": {},
     "outputs": [
      {
       "metadata": {},
       "output_type": "pyout",
       "prompt_number": 19,
       "text": [
        "'There are 503 stations in service.'"
       ]
      }
     ],
     "prompt_number": 19
    },
    {
     "cell_type": "markdown",
     "metadata": {},
     "source": [
      "## How many are \"Not In Service\"? "
     ]
    },
    {
     "cell_type": "code",
     "collapsed": false,
     "input": [
      "condition = (df['statusValue'] == 'Not In Service')\n",
      "in_service = len(df[condition]['totalDocks'])\n",
      "'There are {} stations not in service.'.format(in_service)"
     ],
     "language": "python",
     "metadata": {},
     "outputs": [
      {
       "metadata": {},
       "output_type": "pyout",
       "prompt_number": 20,
       "text": [
        "'There are 3 stations not in service.'"
       ]
      }
     ],
     "prompt_number": 20
    },
    {
     "cell_type": "markdown",
     "metadata": {},
     "source": [
      "## Any other interesting variables values that need to be accounted for?"
     ]
    },
    {
     "cell_type": "markdown",
     "metadata": {},
     "source": [
      "## What is the mean number of bikes in a dock?"
     ]
    },
    {
     "cell_type": "code",
     "collapsed": false,
     "input": [
      "mean = df['availableBikes'].mean()\n",
      "'Stations have a mean of {} bikes.'.format(mean)"
     ],
     "language": "python",
     "metadata": {},
     "outputs": [
      {
       "metadata": {},
       "output_type": "pyout",
       "prompt_number": 22,
       "text": [
        "'Stations have a mean of 12.9051383399 bikes.'"
       ]
      }
     ],
     "prompt_number": 22
    },
    {
     "cell_type": "markdown",
     "metadata": {},
     "source": [
      "## What is the median?"
     ]
    },
    {
     "cell_type": "code",
     "collapsed": false,
     "input": [
      "median = df['availableBikes'].median()\n",
      "'Stations have a median of {} bikes.'.format(median)"
     ],
     "language": "python",
     "metadata": {},
     "outputs": [
      {
       "metadata": {},
       "output_type": "pyout",
       "prompt_number": 23,
       "text": [
        "'Stations have a median of 11.0 bikes.'"
       ]
      }
     ],
     "prompt_number": 23
    },
    {
     "cell_type": "markdown",
     "metadata": {},
     "source": [
      "## How does this change if we remove the stations that aren't in service?"
     ]
    },
    {
     "cell_type": "code",
     "collapsed": false,
     "input": [
      "condition = (df['statusValue'] == 'In Service')\n",
      "mean = df[condition]['totalDocks'].mean()\n",
      "\n",
      "median = df[condition]['totalDocks'].median()\n",
      "\n",
      "'Stations have a mean of {} bikes.'.format(mean)"
     ],
     "language": "python",
     "metadata": {},
     "outputs": [
      {
       "metadata": {},
       "output_type": "pyout",
       "prompt_number": 27,
       "text": [
        "'Stations have a mean of 32.6998011928 bikes.'"
       ]
      }
     ],
     "prompt_number": 27
    },
    {
     "cell_type": "code",
     "collapsed": false,
     "input": [
      "'Stations have a median of {} bikes.'.format(median)"
     ],
     "language": "python",
     "metadata": {},
     "outputs": [
      {
       "metadata": {},
       "output_type": "pyout",
       "prompt_number": 28,
       "text": [
        "'Stations have a median of 31.0 bikes.'"
       ]
      }
     ],
     "prompt_number": 28
    }
   ],
   "metadata": {}
  }
 ]
}